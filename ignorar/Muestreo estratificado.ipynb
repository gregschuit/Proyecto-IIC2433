{
 "cells": [
  {
   "cell_type": "code",
   "execution_count": null,
   "metadata": {},
   "outputs": [],
   "source": [
    "np.random.seed(123)\n",
    "\n",
    "shuffled = quakes_df.loc[np.random.permutation(quakes_df.index)].drop('time', axis=1)\n",
    "\n",
    "clase0 = shuffled[shuffled['tsunami'] == 0]\n",
    "clase1 = shuffled[shuffled['tsunami'] == 1]\n",
    "\n",
    "p80_clase0 = int(len(clase0) * 0.8)  # percentiles 80\n",
    "p80_clase1 = int(len(clase1) * 0.8)\n",
    "\n",
    "train0 = clase0[:p80_clase0]\n",
    "train1 = clase1[:p80_clase1]\n",
    "\n",
    "test0 = clase0[p80_clase0:]\n",
    "test1 = clase1[p80_clase1:]\n",
    "\n",
    "train = pd.concat([train0, train1])\n",
    "test = pd.concat([test0, test1])\n",
    "len(train), len(test)"
   ]
  }
 ],
 "metadata": {
  "kernelspec": {
   "display_name": "Python 3",
   "language": "python",
   "name": "python3"
  },
  "language_info": {
   "codemirror_mode": {
    "name": "ipython",
    "version": 3
   },
   "file_extension": ".py",
   "mimetype": "text/x-python",
   "name": "python",
   "nbconvert_exporter": "python",
   "pygments_lexer": "ipython3",
   "version": "3.6.5"
  }
 },
 "nbformat": 4,
 "nbformat_minor": 2
}
