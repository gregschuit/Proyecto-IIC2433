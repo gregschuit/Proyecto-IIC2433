{
 "cells": [
  {
   "cell_type": "markdown",
   "metadata": {},
   "source": [
    "# Proyecto Semestral - Entrega final\n",
    "\n",
    "Luciano Davico  \n",
    "Gregory Schuit  \n",
    "\n",
    "En el presente notebook se presenta el análisis de datos sobre terremotos y tsunamis, especificamente mediante la implementación de un Random Forest para poder discriminar entre terremotos que ocasionan tsunamis y los que no."
   ]
  },
  {
   "cell_type": "code",
   "execution_count": 122,
   "metadata": {},
   "outputs": [],
   "source": [
    "import pandas as pd\n",
    "import numpy as np\n",
    "from time import time, sleep\n",
    "from IPython.core.display import display, HTML\n",
    "import matplotlib.pyplot as plt\n",
    "import numpy as np"
   ]
  },
  {
   "cell_type": "markdown",
   "metadata": {},
   "source": [
    "# Data Preprocessing"
   ]
  },
  {
   "cell_type": "code",
   "execution_count": 39,
   "metadata": {},
   "outputs": [
    {
     "name": "stdout",
     "output_type": "stream",
     "text": [
      "415677\n"
     ]
    },
    {
     "data": {
      "text/plain": [
       "Index(['time', 'latitude', 'longitude', 'depth', 'mag', 'magType', 'nst',\n",
       "       'gap', 'dmin', 'rms', 'net', 'id', 'updated', 'place', 'type',\n",
       "       'horizontalError', 'depthError', 'magError', 'magNst', 'status',\n",
       "       'locationSource', 'magSource'],\n",
       "      dtype='object')"
      ]
     },
     "execution_count": 39,
     "metadata": {},
     "output_type": "execute_result"
    }
   ],
   "source": [
    "# Leemos los datos de terremotos y filtramos las features.\n",
    "quakes_df = pd.read_csv('Data/quakes.csv')\n",
    "print(len(quakes_df))\n",
    "quakes_df.columns"
   ]
  },
  {
   "cell_type": "code",
   "execution_count": 40,
   "metadata": {},
   "outputs": [
    {
     "data": {
      "text/html": [
       "<div>\n",
       "<style scoped>\n",
       "    .dataframe tbody tr th:only-of-type {\n",
       "        vertical-align: middle;\n",
       "    }\n",
       "\n",
       "    .dataframe tbody tr th {\n",
       "        vertical-align: top;\n",
       "    }\n",
       "\n",
       "    .dataframe thead th {\n",
       "        text-align: right;\n",
       "    }\n",
       "</style>\n",
       "<table border=\"1\" class=\"dataframe\">\n",
       "  <thead>\n",
       "    <tr style=\"text-align: right;\">\n",
       "      <th></th>\n",
       "      <th>latitude</th>\n",
       "      <th>longitude</th>\n",
       "      <th>depth</th>\n",
       "      <th>mag</th>\n",
       "      <th>time</th>\n",
       "    </tr>\n",
       "  </thead>\n",
       "  <tbody>\n",
       "    <tr>\n",
       "      <th>0</th>\n",
       "      <td>37.6457</td>\n",
       "      <td>20.8702</td>\n",
       "      <td>10.00</td>\n",
       "      <td>4.7</td>\n",
       "      <td>2018-10-27T18:33:12.420Z</td>\n",
       "    </tr>\n",
       "    <tr>\n",
       "      <th>1</th>\n",
       "      <td>65.2234</td>\n",
       "      <td>-151.6636</td>\n",
       "      <td>16.60</td>\n",
       "      <td>5.3</td>\n",
       "      <td>2018-10-27T16:57:27.956Z</td>\n",
       "    </tr>\n",
       "    <tr>\n",
       "      <th>2</th>\n",
       "      <td>-22.4704</td>\n",
       "      <td>-68.6516</td>\n",
       "      <td>113.79</td>\n",
       "      <td>4.7</td>\n",
       "      <td>2018-10-27T15:46:43.390Z</td>\n",
       "    </tr>\n",
       "    <tr>\n",
       "      <th>3</th>\n",
       "      <td>-56.0652</td>\n",
       "      <td>-27.4276</td>\n",
       "      <td>93.78</td>\n",
       "      <td>4.9</td>\n",
       "      <td>2018-10-27T15:00:46.800Z</td>\n",
       "    </tr>\n",
       "    <tr>\n",
       "      <th>4</th>\n",
       "      <td>37.3128</td>\n",
       "      <td>20.4930</td>\n",
       "      <td>10.00</td>\n",
       "      <td>4.6</td>\n",
       "      <td>2018-10-27T14:33:26.470Z</td>\n",
       "    </tr>\n",
       "  </tbody>\n",
       "</table>\n",
       "</div>"
      ],
      "text/plain": [
       "   latitude  longitude   depth  mag                      time\n",
       "0   37.6457    20.8702   10.00  4.7  2018-10-27T18:33:12.420Z\n",
       "1   65.2234  -151.6636   16.60  5.3  2018-10-27T16:57:27.956Z\n",
       "2  -22.4704   -68.6516  113.79  4.7  2018-10-27T15:46:43.390Z\n",
       "3  -56.0652   -27.4276   93.78  4.9  2018-10-27T15:00:46.800Z\n",
       "4   37.3128    20.4930   10.00  4.6  2018-10-27T14:33:26.470Z"
      ]
     },
     "execution_count": 40,
     "metadata": {},
     "output_type": "execute_result"
    }
   ],
   "source": [
    "quakes_df = quakes_df[['latitude', 'longitude', 'depth', 'mag', 'time']]\n",
    "quakes_df.head()"
   ]
  },
  {
   "cell_type": "code",
   "execution_count": 41,
   "metadata": {},
   "outputs": [
    {
     "data": {
      "text/plain": [
       "'1900-07-29T06:59:00.000Z'"
      ]
     },
     "execution_count": 41,
     "metadata": {},
     "output_type": "execute_result"
    }
   ],
   "source": [
    "min(quakes_df['time'])"
   ]
  },
  {
   "cell_type": "code",
   "execution_count": 42,
   "metadata": {
    "scrolled": true
   },
   "outputs": [
    {
     "name": "stdout",
     "output_type": "stream",
     "text": [
      "773\n"
     ]
    },
    {
     "data": {
      "text/html": [
       "<div>\n",
       "<style scoped>\n",
       "    .dataframe tbody tr th:only-of-type {\n",
       "        vertical-align: middle;\n",
       "    }\n",
       "\n",
       "    .dataframe tbody tr th {\n",
       "        vertical-align: top;\n",
       "    }\n",
       "\n",
       "    .dataframe thead th {\n",
       "        text-align: right;\n",
       "    }\n",
       "</style>\n",
       "<table border=\"1\" class=\"dataframe\">\n",
       "  <thead>\n",
       "    <tr style=\"text-align: right;\">\n",
       "      <th></th>\n",
       "      <th>PRIMARY_MAGNITUDE</th>\n",
       "      <th>LATITUDE</th>\n",
       "      <th>LONGITUDE</th>\n",
       "      <th>YEAR</th>\n",
       "    </tr>\n",
       "  </thead>\n",
       "  <tbody>\n",
       "    <tr>\n",
       "      <th>372</th>\n",
       "      <td>6.6</td>\n",
       "      <td>-4.0</td>\n",
       "      <td>152.0</td>\n",
       "      <td>1900</td>\n",
       "    </tr>\n",
       "    <tr>\n",
       "      <th>373</th>\n",
       "      <td>7.1</td>\n",
       "      <td>-5.0</td>\n",
       "      <td>148.0</td>\n",
       "      <td>1900</td>\n",
       "    </tr>\n",
       "    <tr>\n",
       "      <th>374</th>\n",
       "      <td>6.9</td>\n",
       "      <td>-4.0</td>\n",
       "      <td>140.0</td>\n",
       "      <td>1900</td>\n",
       "    </tr>\n",
       "    <tr>\n",
       "      <th>375</th>\n",
       "      <td>8.4</td>\n",
       "      <td>11.0</td>\n",
       "      <td>-66.0</td>\n",
       "      <td>1900</td>\n",
       "    </tr>\n",
       "    <tr>\n",
       "      <th>376</th>\n",
       "      <td>6.0</td>\n",
       "      <td>39.0</td>\n",
       "      <td>143.0</td>\n",
       "      <td>1901</td>\n",
       "    </tr>\n",
       "  </tbody>\n",
       "</table>\n",
       "</div>"
      ],
      "text/plain": [
       "     PRIMARY_MAGNITUDE  LATITUDE  LONGITUDE  YEAR\n",
       "372                6.6      -4.0      152.0  1900\n",
       "373                7.1      -5.0      148.0  1900\n",
       "374                6.9      -4.0      140.0  1900\n",
       "375                8.4      11.0      -66.0  1900\n",
       "376                6.0      39.0      143.0  1901"
      ]
     },
     "execution_count": 42,
     "metadata": {},
     "output_type": "execute_result"
    }
   ],
   "source": [
    "# Leemos los dato de tsunamis y seleccionamos las features\n",
    "tsunamis_df = pd.read_csv('Data/tsunamis.tsv', sep='\\t', encoding='iso-8859-1')\n",
    "tsunamis_df = tsunamis_df[tsunamis_df['YEAR'] >= 1900]\n",
    "tsunamis_df = tsunamis_df[['PRIMARY_MAGNITUDE', 'LATITUDE', 'LONGITUDE', 'YEAR']]\n",
    "print(len(tsunamis_df))\n",
    "tsunamis_df.head()"
   ]
  },
  {
   "cell_type": "markdown",
   "metadata": {},
   "source": [
    "Es posibe observar que existen 415677 terremotos y tan solo 1145 tsunamis. Este problema de desbalance se nivelará filtrando intervalos con muchos terremotos y pocos tsunamis, es decir, el rango de magnitudes bajas. A continuación observaremos los datos para determinar un punto de corte."
   ]
  },
  {
   "cell_type": "code",
   "execution_count": 43,
   "metadata": {},
   "outputs": [],
   "source": [
    "# Observamos distribuciones de la magnitud\n",
    "plt = tsunamis_df['PRIMARY_MAGNITUDE'].hist(bins=40, figsize=(10, 3))"
   ]
  },
  {
   "cell_type": "code",
   "execution_count": 44,
   "metadata": {},
   "outputs": [
    {
     "data": {
      "image/png": "[encoded data removed]",
      "text/plain": [
       "<Figure size 720x216 with 1 Axes>"
      ]
     },
     "metadata": {},
     "output_type": "display_data"
    }
   ],
   "source": [
    "plt = quakes_df['mag'].hist(bins=40, figsize=(10, 3))"
   ]
  },
  {
   "cell_type": "markdown",
   "metadata": {},
   "source": [
    "A partir de los histogramas, es posible apreciar que la gran mayoria de los terremotos bajo 6 grados aproximadamente, no genera tsunami alguno. Por esta razón es que lo consideraremos como el punto de corte."
   ]
  },
  {
   "cell_type": "code",
   "execution_count": 45,
   "metadata": {},
   "outputs": [
    {
     "name": "stdout",
     "output_type": "stream",
     "text": [
      "663\n",
      "4930\n"
     ]
    }
   ],
   "source": [
    "corte = 6.3\n",
    "print(len(tsunamis_df[tsunamis_df['PRIMARY_MAGNITUDE'] > corte]))\n",
    "print(len(quakes_df[quakes_df['mag'] > corte]))"
   ]
  },
  {
   "cell_type": "code",
   "execution_count": 46,
   "metadata": {},
   "outputs": [],
   "source": [
    "tsunamis_df = tsunamis_df[tsunamis_df['PRIMARY_MAGNITUDE'] > corte]\n",
    "quakes_df = quakes_df[quakes_df['mag'] > corte]"
   ]
  },
  {
   "cell_type": "markdown",
   "metadata": {},
   "source": [
    "Ahora, procederemos a hacer el join de ambas tablas"
   ]
  },
  {
   "cell_type": "code",
   "execution_count": 47,
   "metadata": {},
   "outputs": [
    {
     "name": "stdout",
     "output_type": "stream",
     "text": [
      "Total time: 25.9266\n"
     ]
    },
    {
     "data": {
      "text/plain": [
       "(671, 663)"
      ]
     },
     "execution_count": 47,
     "metadata": {},
     "output_type": "execute_result"
    }
   ],
   "source": [
    "# Creamos una nueva columna en el dataset de terremotos,\n",
    "# que por defecto será la ausencia de tsunami.\n",
    "quakes_df['tsunami'] = 0\n",
    "\n",
    "t0, i, total = time(), 0, len(quakes_df)\n",
    "for index, row in quakes_df.iterrows():  # Para cada terremoto, se busca la correspondencia\n",
    "    lat = row['latitude']                # en la tabla tsunamis.\n",
    "    lon = row['longitude']\n",
    "    mag = row['mag']\n",
    "    year = int(row['time'][:4])\n",
    "    \n",
    "    delta_pos = 2.5  # valores tuneados a mano para el margen de error.\n",
    "    delta_mag = 0.3\n",
    "    \n",
    "    cond1 = abs(tsunamis_df['LATITUDE'] - lat) < delta_pos\n",
    "    cond2 = abs(tsunamis_df['LONGITUDE'] - lon) < delta_pos\n",
    "    cond3 = abs(tsunamis_df['PRIMARY_MAGNITUDE'] - mag) < delta_mag\n",
    "    cond4 = tsunamis_df['YEAR'] == year\n",
    "    \n",
    "    # Si existe un elemento en la tabla de tsunamis con las features muy cercanas,\n",
    "    # se le asocia al terremoto.\n",
    "    if len(tsunamis_df.loc[cond1 & cond2 & cond3 & cond4]) >= 1:\n",
    "        quakes_df.at[index, 'tsunami'] = 1\n",
    "    else:\n",
    "        quakes_df.at[index, 'tsunami'] = 0\n",
    "    \n",
    "    i += 1\n",
    "    if i % 80 == 0:\n",
    "        print('Seconds left: {:.2f}'.format((time() - t0)/i * (total - i)), end='\\r')\n",
    "\n",
    "print('Total time: {:.2f}'.format(time() - t0))\n",
    "len(quakes_df[quakes_df['tsunami'] == 1]), len(tsunamis_df)"
   ]
  },
  {
   "cell_type": "code",
   "execution_count": 48,
   "metadata": {},
   "outputs": [
    {
     "data": {
      "text/html": [
       "<div>\n",
       "<style scoped>\n",
       "    .dataframe tbody tr th:only-of-type {\n",
       "        vertical-align: middle;\n",
       "    }\n",
       "\n",
       "    .dataframe tbody tr th {\n",
       "        vertical-align: top;\n",
       "    }\n",
       "\n",
       "    .dataframe thead th {\n",
       "        text-align: right;\n",
       "    }\n",
       "</style>\n",
       "<table border=\"1\" class=\"dataframe\">\n",
       "  <thead>\n",
       "    <tr style=\"text-align: right;\">\n",
       "      <th></th>\n",
       "      <th>latitude</th>\n",
       "      <th>longitude</th>\n",
       "      <th>depth</th>\n",
       "      <th>mag</th>\n",
       "      <th>time</th>\n",
       "      <th>tsunami</th>\n",
       "    </tr>\n",
       "  </thead>\n",
       "  <tbody>\n",
       "    <tr>\n",
       "      <th>79</th>\n",
       "      <td>37.5055</td>\n",
       "      <td>20.5626</td>\n",
       "      <td>14.00</td>\n",
       "      <td>6.8</td>\n",
       "      <td>2018-10-25T22:54:51.830Z</td>\n",
       "      <td>1</td>\n",
       "    </tr>\n",
       "    <tr>\n",
       "      <th>147</th>\n",
       "      <td>49.3142</td>\n",
       "      <td>-129.6725</td>\n",
       "      <td>10.00</td>\n",
       "      <td>6.5</td>\n",
       "      <td>2018-10-22T06:22:48.810Z</td>\n",
       "      <td>0</td>\n",
       "    </tr>\n",
       "    <tr>\n",
       "      <th>148</th>\n",
       "      <td>49.3468</td>\n",
       "      <td>-129.2135</td>\n",
       "      <td>10.00</td>\n",
       "      <td>6.8</td>\n",
       "      <td>2018-10-22T06:16:28.160Z</td>\n",
       "      <td>0</td>\n",
       "    </tr>\n",
       "    <tr>\n",
       "      <th>149</th>\n",
       "      <td>49.2496</td>\n",
       "      <td>-129.4783</td>\n",
       "      <td>10.96</td>\n",
       "      <td>6.6</td>\n",
       "      <td>2018-10-22T05:39:40.330Z</td>\n",
       "      <td>0</td>\n",
       "    </tr>\n",
       "    <tr>\n",
       "      <th>335</th>\n",
       "      <td>-21.7260</td>\n",
       "      <td>169.4867</td>\n",
       "      <td>10.00</td>\n",
       "      <td>6.4</td>\n",
       "      <td>2018-10-16T01:03:43.090Z</td>\n",
       "      <td>0</td>\n",
       "    </tr>\n",
       "  </tbody>\n",
       "</table>\n",
       "</div>"
      ],
      "text/plain": [
       "     latitude  longitude  depth  mag                      time  tsunami\n",
       "79    37.5055    20.5626  14.00  6.8  2018-10-25T22:54:51.830Z        1\n",
       "147   49.3142  -129.6725  10.00  6.5  2018-10-22T06:22:48.810Z        0\n",
       "148   49.3468  -129.2135  10.00  6.8  2018-10-22T06:16:28.160Z        0\n",
       "149   49.2496  -129.4783  10.96  6.6  2018-10-22T05:39:40.330Z        0\n",
       "335  -21.7260   169.4867  10.00  6.4  2018-10-16T01:03:43.090Z        0"
      ]
     },
     "execution_count": 48,
     "metadata": {},
     "output_type": "execute_result"
    }
   ],
   "source": [
    "quakes_df.head()"
   ]
  },
  {
   "cell_type": "code",
   "execution_count": 49,
   "metadata": {},
   "outputs": [
    {
     "data": {
      "image/png": "[encoded data removed]",
      "text/plain": [
       "<Figure size 864x216 with 1 Axes>"
      ]
     },
     "metadata": {},
     "output_type": "display_data"
    }
   ],
   "source": [
    "# Magnitudes de todos los terremotos\n",
    "plt = quakes_df['mag'].hist(bins=31, figsize=(12,3))"
   ]
  },
  {
   "cell_type": "code",
   "execution_count": 50,
   "metadata": {},
   "outputs": [
    {
     "data": {
      "image/png": "[encoded data removed]",
      "text/plain": [
       "<Figure size 864x216 with 1 Axes>"
      ]
     },
     "metadata": {},
     "output_type": "display_data"
    }
   ],
   "source": [
    "# Magnitudes de terremotos que provocaron tsunamis\n",
    "plt = quakes_df[quakes_df['tsunami'] == 1]['mag'].hist(bins=30, figsize=(12,3))"
   ]
  },
  {
   "cell_type": "markdown",
   "metadata": {},
   "source": [
    "# Visualization"
   ]
  },
  {
   "cell_type": "code",
   "execution_count": 147,
   "metadata": {
    "scrolled": false
   },
   "outputs": [
    {
     "data": {
      "image/png": "[encoded data removed]",
      "text/plain": [
       "<Figure size 1080x720 with 1 Axes>"
      ]
     },
     "metadata": {},
     "output_type": "display_data"
    }
   ],
   "source": [
    "N = 100\n",
    "r0 = 0.6\n",
    "x = quakes_df['longitude']\n",
    "y = quakes_df['latitude']\n",
    "\n",
    "area = 10 # 0 to 10 point radii\n",
    "\n",
    "plt.figure(figsize=(15,10))\n",
    "plt.scatter(x, y, s=area, marker='o', c=1-quakes_df['tsunami'], alpha=1)\n",
    "plt.show()"
   ]
  },
  {
   "cell_type": "markdown",
   "metadata": {},
   "source": [
    "# Testing Models"
   ]
  },
  {
   "cell_type": "code",
   "execution_count": 89,
   "metadata": {},
   "outputs": [],
   "source": [
    "from sklearn.model_selection import train_test_split, cross_val_score\n",
    "from sklearn.linear_model import LogisticRegression\n",
    "from sklearn.ensemble import RandomForestClassifier\n",
    "from sklearn.svm import SVC\n",
    "from sklearn.neural_network import MLPClassifier\n",
    "from sklearn.metrics import confusion_matrix, f1_score, recall_score, precision_score, accuracy_score, \\\n",
    "                            classification_report\n",
    "\n",
    "# Definimos un decorador para tomar el tiempo de las funciones\n",
    "def timer(f_in):\n",
    "    def f_out(*args, **kwargs):\n",
    "        t0 = time()\n",
    "        ret = f_in(*args, **kwargs)\n",
    "        print(\"\\nTotal time spent: {:.2f}s\\n\".format(time() - t0))\n",
    "        return ret\n",
    "    return f_out"
   ]
  },
  {
   "cell_type": "code",
   "execution_count": 76,
   "metadata": {},
   "outputs": [],
   "source": [
    "# Dividimos matriz de features y vector de clase\n",
    "quakes_features = quakes_df[['latitude', 'longitude', 'depth', 'mag']]\n",
    "target = quakes_df['tsunami']"
   ]
  },
  {
   "cell_type": "code",
   "execution_count": 116,
   "metadata": {},
   "outputs": [],
   "source": [
    "# RANDOM FOREST #\n",
    "@timer\n",
    "def fitRandomForest(X, y, seed=0):\n",
    "    \n",
    "    clf = RandomForestClassifier(n_estimators=75, max_depth=10, \n",
    "                                 class_weight='balanced' , random_state=seed)\n",
    "    trained = clf.fit(X, y)\n",
    "    \n",
    "    return trained\n",
    "\n",
    "\n",
    "# REGRESIÓN LOGÍSTICA #\n",
    "@timer\n",
    "def fitRegresionLogistica(X, y, seed=0):\n",
    "    \n",
    "    clf = LogisticRegression(class_weight='balanced', \n",
    "                             random_state=seed)  # Con este parámetro se ajustan los pesos según la frecuencia de la clase\n",
    "    trained = clf.fit(X, y)\n",
    "    \n",
    "    return trained\n",
    "\n",
    "\n",
    "# SUPPORT VECTOR MACHINE #\n",
    "@timer\n",
    "def fitSupportVectorMachine(X, y, C=1, seed=0):\n",
    "    \n",
    "    clf = SVC(C=C,  # Valor de la penalización \n",
    "              kernel='sigmoid', class_weight='balanced', \n",
    "              probability=True, random_state=seed)\n",
    "    trained = clf.fit(X, y)\n",
    "    \n",
    "    return trained\n",
    "\n",
    "\n",
    "# NEURAL NETWORK\n",
    "@timer\n",
    "def fitNeuralNetwork(X, y, seed=0):\n",
    "    \n",
    "    clf = MLPClassifier(solver='adam',\n",
    "                        hidden_layer_sizes=(10000,),\n",
    "                        random_state=seed)\n",
    "    trained = clf.fit(X, y)\n",
    "    \n",
    "    return trained\n"
   ]
  },
  {
   "cell_type": "code",
   "execution_count": 112,
   "metadata": {},
   "outputs": [],
   "source": [
    "# Predicción \n",
    "def prediction(X_test, trained):\n",
    "    y_pred = trained.predict(X_test)\n",
    "    return y_pred\n",
    "\n",
    "\n",
    "# Partición estratificada\n",
    "\n",
    "X_train, X_test, y_train, y_test = train_test_split(quakes_features, target, test_size=0.3,\n",
    "                                                    random_state=1, stratify=target)"
   ]
  },
  {
   "cell_type": "code",
   "execution_count": 113,
   "metadata": {},
   "outputs": [
    {
     "data": {
      "text/html": [
       "<h3> Resultados de métricas evaluadas con Random Forest:\n",
       "</h3>"
      ],
      "text/plain": [
       "<IPython.core.display.HTML object>"
      ]
     },
     "metadata": {},
     "output_type": "display_data"
    },
    {
     "name": "stdout",
     "output_type": "stream",
     "text": [
      "\n",
      "Total time spent: 0.52s\n",
      "\n",
      "                    precision    recall  f1-score   support\n",
      "\n",
      "no provoca tsunami       0.93      0.93      0.93      1278\n",
      "sí provoca tsunami       0.55      0.58      0.57       201\n",
      "\n",
      "       avg / total       0.88      0.88      0.88      1479\n",
      "\n",
      "Accuracy:  0.8796484110885734 \n",
      "\n",
      "Matriz de Confusión:\n",
      "\n",
      " [[1184   94]\n",
      " [  84  117]] \n",
      "\n"
     ]
    }
   ],
   "source": [
    "# RANDOM FOREST\n",
    "display(HTML('<h3> Resultados de métricas evaluadas con Random Forest:\\n</h3>'))\n",
    "\n",
    "trained = fitRandomForest(X_train, y_train, seed=1)\n",
    "y_pred = prediction(X_test, trained)\n",
    "\n",
    "print(classification_report(y_test, y_pred, target_names=['no provoca tsunami', 'sí provoca tsunami']))\n",
    "print('Accuracy: ', accuracy_score(y_test, y_pred), '\\n')   ## accuracy\n",
    "print('Matriz de Confusión:\\n\\n', confusion_matrix(y_test, y_pred), '\\n')   ## Matriz de Confusion"
   ]
  },
  {
   "cell_type": "code",
   "execution_count": 114,
   "metadata": {},
   "outputs": [
    {
     "data": {
      "text/html": [
       "<h3> Resultados de métricas evaluadas con Regresion Logística\n",
       "</h3>"
      ],
      "text/plain": [
       "<IPython.core.display.HTML object>"
      ]
     },
     "metadata": {},
     "output_type": "display_data"
    },
    {
     "name": "stdout",
     "output_type": "stream",
     "text": [
      "\n",
      "Total time spent: 0.03s\n",
      "\n",
      "                    precision    recall  f1-score   support\n",
      "\n",
      "no provoca tsunami       0.94      0.78      0.85      1278\n",
      "sí provoca tsunami       0.33      0.70      0.45       201\n",
      "\n",
      "       avg / total       0.86      0.77      0.80      1479\n",
      "\n",
      "Accuracy:  0.7660581473968898 \n",
      "\n",
      "Matriz de Confusión:\n",
      "\n",
      " [[993 285]\n",
      " [ 61 140]] \n",
      "\n"
     ]
    }
   ],
   "source": [
    "# REGRESION LOGÍSTICA\n",
    "display(HTML('<h3> Resultados de métricas evaluadas con Regresion Logística\\n</h3>'))\n",
    "\n",
    "trained = fitRegresionLogistica(X_train, y_train, 1)\n",
    "y_pred = prediction(X_test, trained)\n",
    "\n",
    "print(classification_report(y_test, y_pred, target_names=['no provoca tsunami', 'sí provoca tsunami']))\n",
    "print('Accuracy: ', accuracy_score(y_test, y_pred), '\\n')   ## accuracy\n",
    "print('Matriz de Confusión:\\n\\n', confusion_matrix(y_test, y_pred), '\\n')   ## Matriz de Confusion"
   ]
  },
  {
   "cell_type": "code",
   "execution_count": 121,
   "metadata": {},
   "outputs": [
    {
     "data": {
      "text/html": [
       "<h3> Resultados de métricas evaluadas con Support Vector Machine\n",
       "</h3>"
      ],
      "text/plain": [
       "<IPython.core.display.HTML object>"
      ]
     },
     "metadata": {},
     "output_type": "display_data"
    },
    {
     "name": "stdout",
     "output_type": "stream",
     "text": [
      "\n",
      "Total time spent: 1.66s\n",
      "\n",
      "                    precision    recall  f1-score   support\n",
      "\n",
      "no provoca tsunami       0.86      0.51      0.64      1278\n",
      "sí provoca tsunami       0.13      0.46      0.20       201\n",
      "\n",
      "       avg / total       0.76      0.50      0.58      1479\n",
      "\n",
      "Accuracy:  0.49966193373901285 \n",
      "\n",
      "Matriz de Confusión:\n",
      "\n",
      " [[647 631]\n",
      " [109  92]] \n",
      "\n"
     ]
    }
   ],
   "source": [
    "# MAQUINA DE VECTORES DE SOPORTE\n",
    "display(HTML('<h3> Resultados de métricas evaluadas con Support Vector Machine\\n</h3>'))\n",
    "\n",
    "trained = fitSupportVectorMachine(X_train, y_train, C=3, seed=1)\n",
    "y_pred = prediction(X_test, trained)\n",
    "\n",
    "print(classification_report(y_test, y_pred, target_names=['no provoca tsunami', 'sí provoca tsunami']))\n",
    "print('Accuracy: ', accuracy_score(y_test, y_pred), '\\n')   ## accuracy\n",
    "print('Matriz de Confusión:\\n\\n', confusion_matrix(y_test, y_pred), '\\n')   ## Matriz de Confusion"
   ]
  },
  {
   "cell_type": "markdown",
   "metadata": {},
   "source": [
    "SVC, es un clasificador que trata de encontrar un hiperplano divisor de los datos. Como podemos intuir de la naturaleza de los datos, estos no son separables por un hiperplano, por lo que es esperable que este clasificador tenga un mal rendimiento."
   ]
  },
  {
   "cell_type": "code",
   "execution_count": null,
   "metadata": {},
   "outputs": [],
   "source": [
    "# Provar con SVM con kernel."
   ]
  },
  {
   "cell_type": "code",
   "execution_count": 110,
   "metadata": {
    "scrolled": false
   },
   "outputs": [
    {
     "data": {
      "text/html": [
       "<h3> Resultados de métricas evaluadas con Multilayer Perceptron\n",
       "</h3>"
      ],
      "text/plain": [
       "<IPython.core.display.HTML object>"
      ]
     },
     "metadata": {},
     "output_type": "display_data"
    },
    {
     "name": "stdout",
     "output_type": "stream",
     "text": [
      "\n",
      "Total time spent: 9.05s\n",
      "\n",
      "                    precision    recall  f1-score   support\n",
      "\n",
      "no provoca tsunami       0.86      1.00      0.93      1278\n",
      "sí provoca tsunami       0.00      0.00      0.00       201\n",
      "\n",
      "       avg / total       0.75      0.86      0.80      1479\n",
      "\n",
      "Accuracy:  0.8640973630831643 \n",
      "\n",
      "Matriz de Confusión:\n",
      "\n",
      " [[1278    0]\n",
      " [ 201    0]] \n",
      "\n"
     ]
    },
    {
     "name": "stderr",
     "output_type": "stream",
     "text": [
      "/home/gregschuit/anaconda3/lib/python3.6/site-packages/sklearn/metrics/classification.py:1135: UndefinedMetricWarning: Precision and F-score are ill-defined and being set to 0.0 in labels with no predicted samples.\n",
      "  'precision', 'predicted', average, warn_for)\n"
     ]
    }
   ],
   "source": [
    "# RED NEURONAL\n",
    "display(HTML('<h3> Resultados de métricas evaluadas con Multilayer Perceptron\\n</h3>'))\n",
    "\n",
    "trained = fitNeuralNetwork(X_train, y_train)\n",
    "y_pred = prediction(X_test, trained)\n",
    "\n",
    "print(classification_report(y_test, y_pred, target_names=['no provoca tsunami', 'sí provoca tsunami']))\n",
    "print('Accuracy: ', accuracy_score(y_test, y_pred), '\\n')   ## accuracy\n",
    "print('Matriz de Confusión:\\n\\n', confusion_matrix(y_test, y_pred), '\\n')   ## Matriz de Confusion"
   ]
  },
  {
   "cell_type": "markdown",
   "metadata": {},
   "source": [
    "En el caso del modelo Random Forest queremos aumentar el Recall, para detectar casos en que aparezca la clase minoritaria. Es decir, queremos aumentar la cantidad de casos en que se predice un tsunami, dado que efectivamente ocurrirá.\n",
    "\n",
    "Al incluir el parámetro class_weight='balanced' en la Regresión Logística, las clases adquieren un peso inversamente proporcional a la frecuencia de la clase. Como tenemos una base de datos desbalanceada, los valores 1 de la clase adquieren un peso mayor a los valores 0. Los resultados de esto indican que hay un aumento en el Recall, es decir, se han predicho correctamente un 82,23 % de los Tsunamis que han ocurrido. Esto es un avance, si se considera que con el modelo Random Forest se obtuvo un Recall cercano al 29,3 %. Sin embargo, la Precisión del modelo bajó notablemente a un 16,29 %, por lo que ahora se están prediciendo muchos más tsunamis de los que efectivamente ocurrieron."
   ]
  },
  {
   "cell_type": "code",
   "execution_count": 55,
   "metadata": {},
   "outputs": [],
   "source": [
    "# RANDOM SUBSAMPLING #\n",
    "\n",
    "def RandomSubsampling(X_train, y_train, X_test, y_test, B, seed=None):\n",
    "    \n",
    "    lista_fscore = []\n",
    "    lista_recall = []\n",
    "    lista_precision = []\n",
    "    lista_accuracy = []\n",
    "    for i in range(B):\n",
    "        trained = fitRandomForest(X_train, y_train, seed)    # Se evalúa modelo de Random Forest\n",
    "        y_pred = prediction(X_test, trained)\n",
    "        recall = recall_score(y_test, y_pred, average='binary')   ## recall\n",
    "        precision = precision_score(y_test, y_pred, average='binary')   ## precision\n",
    "        f_score = 2*(precision*recall)/(precision+recall)       ## F-score\n",
    "        accuracy = accuracy_score(y_test, y_pred)   ## accuracy\n",
    "        lista_fscore.append(f_score)\n",
    "        lista_recall.append(recall)\n",
    "        lista_precision.append(precision)\n",
    "        lista_accuracy.append(accuracy)\n",
    "    \n",
    "    return lista_fscore, lista_recall, lista_precision, lista_accuracy\n",
    "    "
   ]
  },
  {
   "cell_type": "code",
   "execution_count": 56,
   "metadata": {},
   "outputs": [
    {
     "data": {
      "text/plain": [
       "(0.5648482249474309,\n",
       " 0.5883084577114427,\n",
       " 0.5433184807426606,\n",
       " 0.8768086544962813)"
      ]
     },
     "execution_count": 56,
     "metadata": {},
     "output_type": "execute_result"
    }
   ],
   "source": [
    " #Se evalúa el modelo mediante RandomSubsampling\n",
    "\n",
    "X_train, X_test, y_train, y_test = train_test_split(quakes_features, target, test_size=0.3, \n",
    "                                                    random_state=1, stratify=target)\n",
    "\n",
    "listaFscore, listaRecall, listaPrecision, listaAccuracy = RandomSubsampling(X_train, \n",
    "                                                                            y_train, X_test, y_test, 20)\n",
    "\n",
    "f_score = sum([i for i in listaFscore])/len(listaFscore)\n",
    "recall = sum([i for i in listaRecall])/len(listaRecall)\n",
    "precision = sum([i for i in listaPrecision])/len(listaPrecision)\n",
    "accuracy = sum([i for i in listaAccuracy])/len(listaAccuracy)\n",
    "\n",
    "f_score, recall, precision, accuracy"
   ]
  },
  {
   "cell_type": "markdown",
   "metadata": {},
   "source": [
    "\n",
    "Para corregir el problema de clases desbalanceada, se utilizará Up-sample Minority Class. Este proceso consiste en aumentar la cantidad de observaciones con la clase minoritaria (en este caso, que ocurra un Tsunami i.e. '1'). Este aumento se da gracias a la duplicación de estos datos de forma aleatoria. Se duplicarán observaciones con reemplazo."
   ]
  },
  {
   "cell_type": "code",
   "execution_count": 57,
   "metadata": {},
   "outputs": [
    {
     "data": {
      "text/plain": [
       "0    4259\n",
       "1     671\n",
       "Name: tsunami, dtype: int64"
      ]
     },
     "execution_count": 57,
     "metadata": {},
     "output_type": "execute_result"
    }
   ],
   "source": [
    "# UP-SAMPLE MINORITY CLASS #\n",
    "\n",
    "from sklearn.utils import resample\n",
    "\n",
    "quakes_df['tsunami'].value_counts()"
   ]
  },
  {
   "cell_type": "markdown",
   "metadata": {},
   "source": [
    "Se ve que hay 808 tsunamis en la base de datos, dado que ha ocurrido un total de 23719 terremotos. Con el método que utilizaremos se definirá el set de train y a esta base de datos se la aplicará Up-Sample Minority Class, para luego predecir los datos del set de test."
   ]
  },
  {
   "cell_type": "code",
   "execution_count": 58,
   "metadata": {},
   "outputs": [
    {
     "name": "stdout",
     "output_type": "stream",
     "text": [
      "1    2981\n",
      "0    2981\n",
      "Name: tsunami, dtype: int64\n"
     ]
    }
   ],
   "source": [
    "# Se obtiene el set de train #\n",
    "\n",
    "X_train, X_test, y_train, y_test = train_test_split(quakes_features, target, test_size=0.3, \n",
    "                                                    random_state=1, stratify=target)\n",
    "\n",
    "train = X_train.join(y_train)\n",
    "\n",
    "# Se separa la base de datos en dos partes; una solo con eventos de tsunami y otra sin tsunamis.\n",
    "\n",
    "major = train[train.tsunami == 0] \n",
    "minor = train[train.tsunami == 1]\n",
    "\n",
    "# Se duplican los datos de la clase minoritaria en la misma cantidad que en la clase mayoritaria\n",
    "\n",
    "minor_sampled = resample(minor, replace=True, n_samples=len(major), random_state = 1)\n",
    "\n",
    "# Se crea la nueva base de datos con la base de la clase mayoritaria y la base minoritaria sampleada\n",
    "\n",
    "quakes_sampled = pd.concat([major, minor_sampled])\n",
    "print(quakes_sampled['tsunami'].value_counts())\n",
    "\n",
    "qk_sampled_X = quakes_sampled[['latitude', 'longitude', 'depth', 'mag']]\n",
    "qk_sampled_y = quakes_sampled['tsunami']"
   ]
  },
  {
   "cell_type": "code",
   "execution_count": 59,
   "metadata": {},
   "outputs": [
    {
     "name": "stdout",
     "output_type": "stream",
     "text": [
      "0.5571725571725572 0.6666666666666664 0.4785714285714285 0.8559837728194726\n"
     ]
    }
   ],
   "source": [
    "# Se evalúa el modelo Random Forest con la nueva base de datos de entrenamiento mediante RandomSubsampling \n",
    "\n",
    "listaFscore, listaRecall, listaPrecision, listaAccuracy = RandomSubsampling(qk_sampled_X, qk_sampled_y,\n",
    "                                                                            X_test, y_test, 20, 1)\n",
    "\n",
    "f_score = sum([i for i in listaFscore])/len(listaFscore)\n",
    "recall = sum([i for i in listaRecall])/len(listaRecall)\n",
    "precision = sum([i for i in listaPrecision])/len(listaPrecision)\n",
    "accuracy = sum([i for i in listaAccuracy])/len(listaAccuracy)\n",
    "\n",
    "print(f_score, recall, precision, accuracy)"
   ]
  },
  {
   "cell_type": "markdown",
   "metadata": {},
   "source": [
    "Se ve claramente en los resultados que la predicción ha mejorado relativamente, al aplicar el modelo de Random Forest con Up-Sample Minority Class. El Recall ha aumentado de un 29,3 % a un ~ 81 %, sin embargo, la Precisión se desplomó desde un 71,7 % a un 25,48 %. En cuanto a la Accuracy y F-Score, estos disminuyeron entre 4 y 5 puntos aproximadamente. Para efectos prácticos, pese a que al ocupar Up Sample Minority Class empeoró la predicción, al ocupar este método se predice significativamente mejor los tsunamis que van a ocurrir. Esto es importante de considerar, ya que predecir un tsunami es muy importante para salvar vidas y lo anterior contribuye a poder determinar con rapidez medidas de contingencia. Desde otro punto de vista, dado que el modelo es poco preciso, también se predicen muchos tsunamis cuando estos no ocurren, lo que puede ser perjudicial desde el punto de vista de costos, ya que en la práctica se utilizarían muchos recursos de todo tipo en vano y habrían pérdidas."
   ]
  },
  {
   "cell_type": "code",
   "execution_count": 60,
   "metadata": {},
   "outputs": [
    {
     "data": {
      "text/html": [
       "<div>\n",
       "<style scoped>\n",
       "    .dataframe tbody tr th:only-of-type {\n",
       "        vertical-align: middle;\n",
       "    }\n",
       "\n",
       "    .dataframe tbody tr th {\n",
       "        vertical-align: top;\n",
       "    }\n",
       "\n",
       "    .dataframe thead th {\n",
       "        text-align: right;\n",
       "    }\n",
       "</style>\n",
       "<table border=\"1\" class=\"dataframe\">\n",
       "  <thead>\n",
       "    <tr style=\"text-align: right;\">\n",
       "      <th></th>\n",
       "      <th>latitude</th>\n",
       "      <th>longitude</th>\n",
       "      <th>depth</th>\n",
       "      <th>mag</th>\n",
       "      <th>time</th>\n",
       "      <th>tsunami</th>\n",
       "    </tr>\n",
       "  </thead>\n",
       "  <tbody>\n",
       "    <tr>\n",
       "      <th>79</th>\n",
       "      <td>37.505500</td>\n",
       "      <td>20.562600</td>\n",
       "      <td>14.00</td>\n",
       "      <td>6.8</td>\n",
       "      <td>2018-10-25T22:54:51.830Z</td>\n",
       "      <td>1</td>\n",
       "    </tr>\n",
       "    <tr>\n",
       "      <th>147</th>\n",
       "      <td>49.314200</td>\n",
       "      <td>-129.672500</td>\n",
       "      <td>10.00</td>\n",
       "      <td>6.5</td>\n",
       "      <td>2018-10-22T06:22:48.810Z</td>\n",
       "      <td>0</td>\n",
       "    </tr>\n",
       "    <tr>\n",
       "      <th>148</th>\n",
       "      <td>49.346800</td>\n",
       "      <td>-129.213500</td>\n",
       "      <td>10.00</td>\n",
       "      <td>6.8</td>\n",
       "      <td>2018-10-22T06:16:28.160Z</td>\n",
       "      <td>0</td>\n",
       "    </tr>\n",
       "    <tr>\n",
       "      <th>149</th>\n",
       "      <td>49.249600</td>\n",
       "      <td>-129.478300</td>\n",
       "      <td>10.96</td>\n",
       "      <td>6.6</td>\n",
       "      <td>2018-10-22T05:39:40.330Z</td>\n",
       "      <td>0</td>\n",
       "    </tr>\n",
       "    <tr>\n",
       "      <th>335</th>\n",
       "      <td>-21.726000</td>\n",
       "      <td>169.486700</td>\n",
       "      <td>10.00</td>\n",
       "      <td>6.4</td>\n",
       "      <td>2018-10-16T01:03:43.090Z</td>\n",
       "      <td>0</td>\n",
       "    </tr>\n",
       "    <tr>\n",
       "      <th>402</th>\n",
       "      <td>52.854900</td>\n",
       "      <td>153.242900</td>\n",
       "      <td>461.00</td>\n",
       "      <td>6.7</td>\n",
       "      <td>2018-10-13T11:10:22.400Z</td>\n",
       "      <td>0</td>\n",
       "    </tr>\n",
       "    <tr>\n",
       "      <th>467</th>\n",
       "      <td>49.290200</td>\n",
       "      <td>156.296800</td>\n",
       "      <td>20.00</td>\n",
       "      <td>6.5</td>\n",
       "      <td>2018-10-10T23:16:02.130Z</td>\n",
       "      <td>0</td>\n",
       "    </tr>\n",
       "    <tr>\n",
       "      <th>473</th>\n",
       "      <td>-5.707800</td>\n",
       "      <td>151.219700</td>\n",
       "      <td>45.05</td>\n",
       "      <td>7.0</td>\n",
       "      <td>2018-10-10T20:48:20.750Z</td>\n",
       "      <td>0</td>\n",
       "    </tr>\n",
       "    <tr>\n",
       "      <th>801</th>\n",
       "      <td>-18.346500</td>\n",
       "      <td>-178.078800</td>\n",
       "      <td>564.13</td>\n",
       "      <td>6.7</td>\n",
       "      <td>2018-09-30T10:52:24.240Z</td>\n",
       "      <td>0</td>\n",
       "    </tr>\n",
       "    <tr>\n",
       "      <th>910</th>\n",
       "      <td>-0.178100</td>\n",
       "      <td>119.840100</td>\n",
       "      <td>10.00</td>\n",
       "      <td>7.5</td>\n",
       "      <td>2018-09-28T10:02:43.480Z</td>\n",
       "      <td>0</td>\n",
       "    </tr>\n",
       "    <tr>\n",
       "      <th>1342</th>\n",
       "      <td>-25.415000</td>\n",
       "      <td>178.199100</td>\n",
       "      <td>576.00</td>\n",
       "      <td>6.5</td>\n",
       "      <td>2018-09-16T21:11:48.820Z</td>\n",
       "      <td>0</td>\n",
       "    </tr>\n",
       "    <tr>\n",
       "      <th>1672</th>\n",
       "      <td>-31.744700</td>\n",
       "      <td>-179.372800</td>\n",
       "      <td>115.00</td>\n",
       "      <td>6.9</td>\n",
       "      <td>2018-09-10T04:19:02.630Z</td>\n",
       "      <td>0</td>\n",
       "    </tr>\n",
       "    <tr>\n",
       "      <th>1688</th>\n",
       "      <td>-10.020700</td>\n",
       "      <td>161.502500</td>\n",
       "      <td>68.00</td>\n",
       "      <td>6.5</td>\n",
       "      <td>2018-09-09T19:31:35.090Z</td>\n",
       "      <td>0</td>\n",
       "    </tr>\n",
       "    <tr>\n",
       "      <th>1865</th>\n",
       "      <td>-18.474300</td>\n",
       "      <td>179.350200</td>\n",
       "      <td>670.81</td>\n",
       "      <td>7.9</td>\n",
       "      <td>2018-09-06T15:49:18.710Z</td>\n",
       "      <td>0</td>\n",
       "    </tr>\n",
       "    <tr>\n",
       "      <th>1916</th>\n",
       "      <td>42.686400</td>\n",
       "      <td>141.930300</td>\n",
       "      <td>35.00</td>\n",
       "      <td>6.6</td>\n",
       "      <td>2018-09-05T18:07:59.150Z</td>\n",
       "      <td>0</td>\n",
       "    </tr>\n",
       "    <tr>\n",
       "      <th>2213</th>\n",
       "      <td>-22.035200</td>\n",
       "      <td>170.118900</td>\n",
       "      <td>25.59</td>\n",
       "      <td>7.1</td>\n",
       "      <td>2018-08-29T03:51:56.710Z</td>\n",
       "      <td>1</td>\n",
       "    </tr>\n",
       "    <tr>\n",
       "      <th>2224</th>\n",
       "      <td>16.804400</td>\n",
       "      <td>146.839500</td>\n",
       "      <td>55.00</td>\n",
       "      <td>6.4</td>\n",
       "      <td>2018-08-28T22:35:13.410Z</td>\n",
       "      <td>0</td>\n",
       "    </tr>\n",
       "    <tr>\n",
       "      <th>2425</th>\n",
       "      <td>-11.035500</td>\n",
       "      <td>-70.828400</td>\n",
       "      <td>630.00</td>\n",
       "      <td>7.1</td>\n",
       "      <td>2018-08-24T09:04:08.250Z</td>\n",
       "      <td>0</td>\n",
       "    </tr>\n",
       "    <tr>\n",
       "      <th>2541</th>\n",
       "      <td>-16.031500</td>\n",
       "      <td>168.142800</td>\n",
       "      <td>9.00</td>\n",
       "      <td>6.5</td>\n",
       "      <td>2018-08-21T22:32:26.470Z</td>\n",
       "      <td>0</td>\n",
       "    </tr>\n",
       "    <tr>\n",
       "      <th>2542</th>\n",
       "      <td>10.773100</td>\n",
       "      <td>-62.901900</td>\n",
       "      <td>146.82</td>\n",
       "      <td>7.3</td>\n",
       "      <td>2018-08-21T21:31:47.600Z</td>\n",
       "      <td>1</td>\n",
       "    </tr>\n",
       "    <tr>\n",
       "      <th>2766</th>\n",
       "      <td>-8.319000</td>\n",
       "      <td>116.627200</td>\n",
       "      <td>21.00</td>\n",
       "      <td>6.9</td>\n",
       "      <td>2018-08-19T14:56:27.490Z</td>\n",
       "      <td>1</td>\n",
       "    </tr>\n",
       "    <tr>\n",
       "      <th>2852</th>\n",
       "      <td>-16.978300</td>\n",
       "      <td>-178.033200</td>\n",
       "      <td>415.60</td>\n",
       "      <td>6.4</td>\n",
       "      <td>2018-08-19T04:28:58.700Z</td>\n",
       "      <td>0</td>\n",
       "    </tr>\n",
       "    <tr>\n",
       "      <th>2942</th>\n",
       "      <td>-18.112500</td>\n",
       "      <td>-178.153000</td>\n",
       "      <td>600.00</td>\n",
       "      <td>8.2</td>\n",
       "      <td>2018-08-19T00:19:40.670Z</td>\n",
       "      <td>1</td>\n",
       "    </tr>\n",
       "    <tr>\n",
       "      <th>3003</th>\n",
       "      <td>-7.371800</td>\n",
       "      <td>119.801700</td>\n",
       "      <td>529.00</td>\n",
       "      <td>6.5</td>\n",
       "      <td>2018-08-17T15:35:01.890Z</td>\n",
       "      <td>0</td>\n",
       "    </tr>\n",
       "    <tr>\n",
       "      <th>3074</th>\n",
       "      <td>51.423400</td>\n",
       "      <td>-178.026200</td>\n",
       "      <td>33.93</td>\n",
       "      <td>6.5</td>\n",
       "      <td>2018-08-15T21:56:56.310Z</td>\n",
       "      <td>0</td>\n",
       "    </tr>\n",
       "    <tr>\n",
       "      <th>3516</th>\n",
       "      <td>-8.258100</td>\n",
       "      <td>116.437500</td>\n",
       "      <td>34.00</td>\n",
       "      <td>6.9</td>\n",
       "      <td>2018-08-05T11:46:38.630Z</td>\n",
       "      <td>1</td>\n",
       "    </tr>\n",
       "    <tr>\n",
       "      <th>3766</th>\n",
       "      <td>-8.239500</td>\n",
       "      <td>116.508000</td>\n",
       "      <td>14.00</td>\n",
       "      <td>6.4</td>\n",
       "      <td>2018-07-28T22:47:38.740Z</td>\n",
       "      <td>0</td>\n",
       "    </tr>\n",
       "    <tr>\n",
       "      <th>4263</th>\n",
       "      <td>-18.927900</td>\n",
       "      <td>169.046700</td>\n",
       "      <td>167.00</td>\n",
       "      <td>6.4</td>\n",
       "      <td>2018-07-13T09:46:49.070Z</td>\n",
       "      <td>0</td>\n",
       "    </tr>\n",
       "    <tr>\n",
       "      <th>6741</th>\n",
       "      <td>19.318167</td>\n",
       "      <td>-154.999667</td>\n",
       "      <td>5.81</td>\n",
       "      <td>6.9</td>\n",
       "      <td>2018-05-04T22:32:54.650Z</td>\n",
       "      <td>0</td>\n",
       "    </tr>\n",
       "    <tr>\n",
       "      <th>7838</th>\n",
       "      <td>-20.658800</td>\n",
       "      <td>-63.005800</td>\n",
       "      <td>559.00</td>\n",
       "      <td>6.8</td>\n",
       "      <td>2018-04-02T13:40:34.840Z</td>\n",
       "      <td>0</td>\n",
       "    </tr>\n",
       "    <tr>\n",
       "      <th>...</th>\n",
       "      <td>...</td>\n",
       "      <td>...</td>\n",
       "      <td>...</td>\n",
       "      <td>...</td>\n",
       "      <td>...</td>\n",
       "      <td>...</td>\n",
       "    </tr>\n",
       "    <tr>\n",
       "      <th>413223</th>\n",
       "      <td>-6.056000</td>\n",
       "      <td>154.424000</td>\n",
       "      <td>33.00</td>\n",
       "      <td>6.6</td>\n",
       "      <td>1984-07-05T05:21:48.930Z</td>\n",
       "      <td>0</td>\n",
       "    </tr>\n",
       "    <tr>\n",
       "      <th>413255</th>\n",
       "      <td>16.804000</td>\n",
       "      <td>-98.441000</td>\n",
       "      <td>46.60</td>\n",
       "      <td>6.4</td>\n",
       "      <td>1984-07-02T04:50:44.130Z</td>\n",
       "      <td>0</td>\n",
       "    </tr>\n",
       "    <tr>\n",
       "      <th>413376</th>\n",
       "      <td>17.984000</td>\n",
       "      <td>-69.338000</td>\n",
       "      <td>23.90</td>\n",
       "      <td>6.9</td>\n",
       "      <td>1984-06-24T11:17:11.920Z</td>\n",
       "      <td>0</td>\n",
       "    </tr>\n",
       "    <tr>\n",
       "      <th>413394</th>\n",
       "      <td>-58.318000</td>\n",
       "      <td>-15.786000</td>\n",
       "      <td>10.00</td>\n",
       "      <td>6.4</td>\n",
       "      <td>1984-06-22T15:55:28.400Z</td>\n",
       "      <td>0</td>\n",
       "    </tr>\n",
       "    <tr>\n",
       "      <th>413453</th>\n",
       "      <td>-15.705000</td>\n",
       "      <td>-72.491000</td>\n",
       "      <td>116.80</td>\n",
       "      <td>6.5</td>\n",
       "      <td>1984-06-18T11:20:17.940Z</td>\n",
       "      <td>0</td>\n",
       "    </tr>\n",
       "    <tr>\n",
       "      <th>413488</th>\n",
       "      <td>-15.816000</td>\n",
       "      <td>-174.831000</td>\n",
       "      <td>246.60</td>\n",
       "      <td>6.6</td>\n",
       "      <td>1984-06-15T14:22:23.080Z</td>\n",
       "      <td>0</td>\n",
       "    </tr>\n",
       "    <tr>\n",
       "      <th>413677</th>\n",
       "      <td>-4.843000</td>\n",
       "      <td>151.577000</td>\n",
       "      <td>174.40</td>\n",
       "      <td>7.1</td>\n",
       "      <td>1984-05-30T07:49:43.660Z</td>\n",
       "      <td>0</td>\n",
       "    </tr>\n",
       "    <tr>\n",
       "      <th>413719</th>\n",
       "      <td>-10.896000</td>\n",
       "      <td>164.183000</td>\n",
       "      <td>26.50</td>\n",
       "      <td>6.4</td>\n",
       "      <td>1984-05-26T22:42:47.350Z</td>\n",
       "      <td>0</td>\n",
       "    </tr>\n",
       "    <tr>\n",
       "      <th>413730</th>\n",
       "      <td>-43.548000</td>\n",
       "      <td>38.944000</td>\n",
       "      <td>10.00</td>\n",
       "      <td>6.7</td>\n",
       "      <td>1984-05-26T03:58:56.950Z</td>\n",
       "      <td>0</td>\n",
       "    </tr>\n",
       "    <tr>\n",
       "      <th>413736</th>\n",
       "      <td>-54.976000</td>\n",
       "      <td>-135.688000</td>\n",
       "      <td>10.00</td>\n",
       "      <td>6.4</td>\n",
       "      <td>1984-05-25T23:53:51.930Z</td>\n",
       "      <td>0</td>\n",
       "    </tr>\n",
       "    <tr>\n",
       "      <th>413838</th>\n",
       "      <td>-36.460000</td>\n",
       "      <td>53.540000</td>\n",
       "      <td>10.00</td>\n",
       "      <td>6.9</td>\n",
       "      <td>1984-05-17T16:53:51.000Z</td>\n",
       "      <td>0</td>\n",
       "    </tr>\n",
       "    <tr>\n",
       "      <th>413839</th>\n",
       "      <td>-36.429000</td>\n",
       "      <td>52.419000</td>\n",
       "      <td>10.00</td>\n",
       "      <td>6.9</td>\n",
       "      <td>1984-05-17T16:53:46.370Z</td>\n",
       "      <td>0</td>\n",
       "    </tr>\n",
       "    <tr>\n",
       "      <th>414131</th>\n",
       "      <td>30.909000</td>\n",
       "      <td>138.431000</td>\n",
       "      <td>403.10</td>\n",
       "      <td>6.9</td>\n",
       "      <td>1984-04-24T04:11:29.090Z</td>\n",
       "      <td>0</td>\n",
       "    </tr>\n",
       "    <tr>\n",
       "      <th>414136</th>\n",
       "      <td>47.450000</td>\n",
       "      <td>146.692000</td>\n",
       "      <td>414.10</td>\n",
       "      <td>6.5</td>\n",
       "      <td>1984-04-23T21:40:35.510Z</td>\n",
       "      <td>0</td>\n",
       "    </tr>\n",
       "    <tr>\n",
       "      <th>414167</th>\n",
       "      <td>-21.866000</td>\n",
       "      <td>-179.375000</td>\n",
       "      <td>593.20</td>\n",
       "      <td>6.4</td>\n",
       "      <td>1984-04-22T03:33:00.580Z</td>\n",
       "      <td>0</td>\n",
       "    </tr>\n",
       "    <tr>\n",
       "      <th>414224</th>\n",
       "      <td>-15.934000</td>\n",
       "      <td>-174.352000</td>\n",
       "      <td>149.70</td>\n",
       "      <td>6.5</td>\n",
       "      <td>1984-04-18T06:49:13.940Z</td>\n",
       "      <td>0</td>\n",
       "    </tr>\n",
       "    <tr>\n",
       "      <th>414384</th>\n",
       "      <td>-18.903000</td>\n",
       "      <td>168.850000</td>\n",
       "      <td>182.40</td>\n",
       "      <td>6.8</td>\n",
       "      <td>1984-04-06T23:08:22.340Z</td>\n",
       "      <td>0</td>\n",
       "    </tr>\n",
       "    <tr>\n",
       "      <th>414533</th>\n",
       "      <td>-4.647000</td>\n",
       "      <td>145.805000</td>\n",
       "      <td>27.60</td>\n",
       "      <td>6.5</td>\n",
       "      <td>1984-03-27T20:06:33.250Z</td>\n",
       "      <td>0</td>\n",
       "    </tr>\n",
       "    <tr>\n",
       "      <th>414600</th>\n",
       "      <td>44.117000</td>\n",
       "      <td>148.192000</td>\n",
       "      <td>44.40</td>\n",
       "      <td>7.2</td>\n",
       "      <td>1984-03-24T09:44:02.600Z</td>\n",
       "      <td>1</td>\n",
       "    </tr>\n",
       "    <tr>\n",
       "      <th>414693</th>\n",
       "      <td>40.320000</td>\n",
       "      <td>63.350000</td>\n",
       "      <td>14.50</td>\n",
       "      <td>7.0</td>\n",
       "      <td>1984-03-19T20:28:38.240Z</td>\n",
       "      <td>0</td>\n",
       "    </tr>\n",
       "    <tr>\n",
       "      <th>414847</th>\n",
       "      <td>29.384000</td>\n",
       "      <td>138.935000</td>\n",
       "      <td>457.40</td>\n",
       "      <td>7.4</td>\n",
       "      <td>1984-03-06T02:17:21.260Z</td>\n",
       "      <td>0</td>\n",
       "    </tr>\n",
       "    <tr>\n",
       "      <th>414857</th>\n",
       "      <td>8.147000</td>\n",
       "      <td>123.762000</td>\n",
       "      <td>649.10</td>\n",
       "      <td>7.3</td>\n",
       "      <td>1984-03-05T03:33:50.990Z</td>\n",
       "      <td>0</td>\n",
       "    </tr>\n",
       "    <tr>\n",
       "      <th>415097</th>\n",
       "      <td>36.431000</td>\n",
       "      <td>70.826000</td>\n",
       "      <td>207.60</td>\n",
       "      <td>6.4</td>\n",
       "      <td>1984-02-16T17:18:41.610Z</td>\n",
       "      <td>0</td>\n",
       "    </tr>\n",
       "    <tr>\n",
       "      <th>415213</th>\n",
       "      <td>-9.815000</td>\n",
       "      <td>160.268000</td>\n",
       "      <td>27.00</td>\n",
       "      <td>6.4</td>\n",
       "      <td>1984-02-08T00:39:51.090Z</td>\n",
       "      <td>0</td>\n",
       "    </tr>\n",
       "    <tr>\n",
       "      <th>415217</th>\n",
       "      <td>-10.012000</td>\n",
       "      <td>160.469000</td>\n",
       "      <td>18.10</td>\n",
       "      <td>7.6</td>\n",
       "      <td>1984-02-07T21:33:21.490Z</td>\n",
       "      <td>0</td>\n",
       "    </tr>\n",
       "    <tr>\n",
       "      <th>415278</th>\n",
       "      <td>49.063000</td>\n",
       "      <td>146.590000</td>\n",
       "      <td>573.40</td>\n",
       "      <td>6.4</td>\n",
       "      <td>1984-02-01T07:28:28.700Z</td>\n",
       "      <td>0</td>\n",
       "    </tr>\n",
       "    <tr>\n",
       "      <th>415584</th>\n",
       "      <td>-2.823000</td>\n",
       "      <td>118.806000</td>\n",
       "      <td>33.00</td>\n",
       "      <td>7.0</td>\n",
       "      <td>1984-01-08T15:24:13.560Z</td>\n",
       "      <td>0</td>\n",
       "    </tr>\n",
       "    <tr>\n",
       "      <th>415654</th>\n",
       "      <td>-56.745000</td>\n",
       "      <td>-142.655000</td>\n",
       "      <td>10.00</td>\n",
       "      <td>6.4</td>\n",
       "      <td>1984-01-02T22:09:58.140Z</td>\n",
       "      <td>0</td>\n",
       "    </tr>\n",
       "    <tr>\n",
       "      <th>415655</th>\n",
       "      <td>-57.890000</td>\n",
       "      <td>-142.320000</td>\n",
       "      <td>10.00</td>\n",
       "      <td>6.4</td>\n",
       "      <td>1984-01-02T22:09:57.000Z</td>\n",
       "      <td>0</td>\n",
       "    </tr>\n",
       "    <tr>\n",
       "      <th>415670</th>\n",
       "      <td>33.683000</td>\n",
       "      <td>136.894000</td>\n",
       "      <td>368.10</td>\n",
       "      <td>7.2</td>\n",
       "      <td>1984-01-01T09:03:38.850Z</td>\n",
       "      <td>0</td>\n",
       "    </tr>\n",
       "  </tbody>\n",
       "</table>\n",
       "<p>4930 rows × 6 columns</p>\n",
       "</div>"
      ],
      "text/plain": [
       "         latitude   longitude   depth  mag                      time  tsunami\n",
       "79      37.505500   20.562600   14.00  6.8  2018-10-25T22:54:51.830Z        1\n",
       "147     49.314200 -129.672500   10.00  6.5  2018-10-22T06:22:48.810Z        0\n",
       "148     49.346800 -129.213500   10.00  6.8  2018-10-22T06:16:28.160Z        0\n",
       "149     49.249600 -129.478300   10.96  6.6  2018-10-22T05:39:40.330Z        0\n",
       "335    -21.726000  169.486700   10.00  6.4  2018-10-16T01:03:43.090Z        0\n",
       "402     52.854900  153.242900  461.00  6.7  2018-10-13T11:10:22.400Z        0\n",
       "467     49.290200  156.296800   20.00  6.5  2018-10-10T23:16:02.130Z        0\n",
       "473     -5.707800  151.219700   45.05  7.0  2018-10-10T20:48:20.750Z        0\n",
       "801    -18.346500 -178.078800  564.13  6.7  2018-09-30T10:52:24.240Z        0\n",
       "910     -0.178100  119.840100   10.00  7.5  2018-09-28T10:02:43.480Z        0\n",
       "1342   -25.415000  178.199100  576.00  6.5  2018-09-16T21:11:48.820Z        0\n",
       "1672   -31.744700 -179.372800  115.00  6.9  2018-09-10T04:19:02.630Z        0\n",
       "1688   -10.020700  161.502500   68.00  6.5  2018-09-09T19:31:35.090Z        0\n",
       "1865   -18.474300  179.350200  670.81  7.9  2018-09-06T15:49:18.710Z        0\n",
       "1916    42.686400  141.930300   35.00  6.6  2018-09-05T18:07:59.150Z        0\n",
       "2213   -22.035200  170.118900   25.59  7.1  2018-08-29T03:51:56.710Z        1\n",
       "2224    16.804400  146.839500   55.00  6.4  2018-08-28T22:35:13.410Z        0\n",
       "2425   -11.035500  -70.828400  630.00  7.1  2018-08-24T09:04:08.250Z        0\n",
       "2541   -16.031500  168.142800    9.00  6.5  2018-08-21T22:32:26.470Z        0\n",
       "2542    10.773100  -62.901900  146.82  7.3  2018-08-21T21:31:47.600Z        1\n",
       "2766    -8.319000  116.627200   21.00  6.9  2018-08-19T14:56:27.490Z        1\n",
       "2852   -16.978300 -178.033200  415.60  6.4  2018-08-19T04:28:58.700Z        0\n",
       "2942   -18.112500 -178.153000  600.00  8.2  2018-08-19T00:19:40.670Z        1\n",
       "3003    -7.371800  119.801700  529.00  6.5  2018-08-17T15:35:01.890Z        0\n",
       "3074    51.423400 -178.026200   33.93  6.5  2018-08-15T21:56:56.310Z        0\n",
       "3516    -8.258100  116.437500   34.00  6.9  2018-08-05T11:46:38.630Z        1\n",
       "3766    -8.239500  116.508000   14.00  6.4  2018-07-28T22:47:38.740Z        0\n",
       "4263   -18.927900  169.046700  167.00  6.4  2018-07-13T09:46:49.070Z        0\n",
       "6741    19.318167 -154.999667    5.81  6.9  2018-05-04T22:32:54.650Z        0\n",
       "7838   -20.658800  -63.005800  559.00  6.8  2018-04-02T13:40:34.840Z        0\n",
       "...           ...         ...     ...  ...                       ...      ...\n",
       "413223  -6.056000  154.424000   33.00  6.6  1984-07-05T05:21:48.930Z        0\n",
       "413255  16.804000  -98.441000   46.60  6.4  1984-07-02T04:50:44.130Z        0\n",
       "413376  17.984000  -69.338000   23.90  6.9  1984-06-24T11:17:11.920Z        0\n",
       "413394 -58.318000  -15.786000   10.00  6.4  1984-06-22T15:55:28.400Z        0\n",
       "413453 -15.705000  -72.491000  116.80  6.5  1984-06-18T11:20:17.940Z        0\n",
       "413488 -15.816000 -174.831000  246.60  6.6  1984-06-15T14:22:23.080Z        0\n",
       "413677  -4.843000  151.577000  174.40  7.1  1984-05-30T07:49:43.660Z        0\n",
       "413719 -10.896000  164.183000   26.50  6.4  1984-05-26T22:42:47.350Z        0\n",
       "413730 -43.548000   38.944000   10.00  6.7  1984-05-26T03:58:56.950Z        0\n",
       "413736 -54.976000 -135.688000   10.00  6.4  1984-05-25T23:53:51.930Z        0\n",
       "413838 -36.460000   53.540000   10.00  6.9  1984-05-17T16:53:51.000Z        0\n",
       "413839 -36.429000   52.419000   10.00  6.9  1984-05-17T16:53:46.370Z        0\n",
       "414131  30.909000  138.431000  403.10  6.9  1984-04-24T04:11:29.090Z        0\n",
       "414136  47.450000  146.692000  414.10  6.5  1984-04-23T21:40:35.510Z        0\n",
       "414167 -21.866000 -179.375000  593.20  6.4  1984-04-22T03:33:00.580Z        0\n",
       "414224 -15.934000 -174.352000  149.70  6.5  1984-04-18T06:49:13.940Z        0\n",
       "414384 -18.903000  168.850000  182.40  6.8  1984-04-06T23:08:22.340Z        0\n",
       "414533  -4.647000  145.805000   27.60  6.5  1984-03-27T20:06:33.250Z        0\n",
       "414600  44.117000  148.192000   44.40  7.2  1984-03-24T09:44:02.600Z        1\n",
       "414693  40.320000   63.350000   14.50  7.0  1984-03-19T20:28:38.240Z        0\n",
       "414847  29.384000  138.935000  457.40  7.4  1984-03-06T02:17:21.260Z        0\n",
       "414857   8.147000  123.762000  649.10  7.3  1984-03-05T03:33:50.990Z        0\n",
       "415097  36.431000   70.826000  207.60  6.4  1984-02-16T17:18:41.610Z        0\n",
       "415213  -9.815000  160.268000   27.00  6.4  1984-02-08T00:39:51.090Z        0\n",
       "415217 -10.012000  160.469000   18.10  7.6  1984-02-07T21:33:21.490Z        0\n",
       "415278  49.063000  146.590000  573.40  6.4  1984-02-01T07:28:28.700Z        0\n",
       "415584  -2.823000  118.806000   33.00  7.0  1984-01-08T15:24:13.560Z        0\n",
       "415654 -56.745000 -142.655000   10.00  6.4  1984-01-02T22:09:58.140Z        0\n",
       "415655 -57.890000 -142.320000   10.00  6.4  1984-01-02T22:09:57.000Z        0\n",
       "415670  33.683000  136.894000  368.10  7.2  1984-01-01T09:03:38.850Z        0\n",
       "\n",
       "[4930 rows x 6 columns]"
      ]
     },
     "execution_count": 60,
     "metadata": {},
     "output_type": "execute_result"
    }
   ],
   "source": [
    "quakes_df"
   ]
  },
  {
   "cell_type": "code",
   "execution_count": 61,
   "metadata": {},
   "outputs": [],
   "source": [
    "\n",
    "# K-FOLD CROSS VALIDATION #\n",
    "\n",
    "def CrossValidation(X, y, k):\n",
    "    \n",
    "    clf = RandomForestClassifier(n_estimators=75, max_depth=10, random_state=1) # Se evalúa modelo de Random Forest\n",
    "    clf = clf.fit(X, y)\n",
    "    return cross_val_score(clf, X, y, cv=k)"
   ]
  },
  {
   "cell_type": "code",
   "execution_count": 62,
   "metadata": {},
   "outputs": [
    {
     "data": {
      "text/plain": [
       "array([0.8805668 , 0.89858012, 0.89249493, 0.90263692, 0.87423935,\n",
       "       0.87018256, 0.90466531, 0.86409736, 0.90872211, 0.8902439 ])"
      ]
     },
     "execution_count": 62,
     "metadata": {},
     "output_type": "execute_result"
    }
   ],
   "source": [
    "CrossValidation(quakes_features, target, 10)\n"
   ]
  },
  {
   "cell_type": "code",
   "execution_count": 66,
   "metadata": {},
   "outputs": [],
   "source": [
    "def timer(f_in):\n",
    "    def f_out(*args, **kwargs):\n",
    "        t0 = time()\n",
    "        ret = f_in(*args, **kwargs)\n",
    "        print(\"\\nTotal time spent: {:.2f}s\".format(time() - t0))\n",
    "        return ret\n",
    "    return f_out"
   ]
  },
  {
   "cell_type": "code",
   "execution_count": 67,
   "metadata": {},
   "outputs": [],
   "source": [
    "@timer\n",
    "def contar(i, j):\n",
    "    for x in range(i, j):\n",
    "        print(\"{}...\".format(x), end=\"\\r\")\n",
    "        sleep(0.5)\n",
    "    print(\"¡Salí!\")\n",
    "    return "
   ]
  },
  {
   "cell_type": "code",
   "execution_count": 68,
   "metadata": {},
   "outputs": [
    {
     "name": "stdout",
     "output_type": "stream",
     "text": [
      "¡Salí!\n",
      "\n",
      "Total time spent: 4.51s\n"
     ]
    }
   ],
   "source": [
    "contar(1,10)"
   ]
  },
  {
   "cell_type": "code",
   "execution_count": 69,
   "metadata": {},
   "outputs": [
    {
     "name": "stdout",
     "output_type": "stream",
     "text": [
      "¡Salí!\n",
      "\n",
      "Total time spent: 2.00s\n"
     ]
    },
    {
     "data": {
      "text/plain": [
       "<function __main__.timer.<locals>.f_out(*args, **kwargs)>"
      ]
     },
     "execution_count": 69,
     "metadata": {},
     "output_type": "execute_result"
    }
   ],
   "source": [
    "timer(contar(1, 5))"
   ]
  },
  {
   "cell_type": "code",
   "execution_count": null,
   "metadata": {},
   "outputs": [],
   "source": []
  }
 ],
 "metadata": {
  "kernelspec": {
   "display_name": "Python 3",
   "language": "python",
   "name": "python3"
  },
  "language_info": {
   "codemirror_mode": {
    "name": "ipython",
    "version": 3
   },
   "file_extension": ".py",
   "mimetype": "text/x-python",
   "name": "python",
   "nbconvert_exporter": "python",
   "pygments_lexer": "ipython3",
   "version": "3.6.5"
  }
 },
 "nbformat": 4,
 "nbformat_minor": 2
}
