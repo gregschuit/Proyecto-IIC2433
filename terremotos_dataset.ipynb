{
 "cells": [
  {
   "cell_type": "markdown",
   "metadata": {},
   "source": [
    "# Proyecto Semestral - Entrega final\n",
    "\n",
    "Luciano Davico  \n",
    "Gregory Schuit  \n",
    "\n",
    "En el presente notebook se presenta el análisis de datos sobre terremotos y tsunamis, especificamente mediante la implementación de un Random Forest para poder discriminar entre terremotos que ocasionan tsunamis y los que no."
   ]
  },
  {
   "cell_type": "code",
   "execution_count": 3,
   "metadata": {},
   "outputs": [],
   "source": [
    "import pandas as pd\n",
    "import numpy as np\n",
    "from time import time"
   ]
  },
  {
   "cell_type": "markdown",
   "metadata": {},
   "source": [
    "# Data Preprocessing"
   ]
  },
  {
   "cell_type": "code",
   "execution_count": 4,
   "metadata": {},
   "outputs": [
    {
     "name": "stdout",
     "output_type": "stream",
     "text": [
      "415677\n"
     ]
    },
    {
     "data": {
      "text/plain": [
       "Index(['time', 'latitude', 'longitude', 'depth', 'mag', 'magType', 'nst',\n",
       "       'gap', 'dmin', 'rms', 'net', 'id', 'updated', 'place', 'type',\n",
       "       'horizontalError', 'depthError', 'magError', 'magNst', 'status',\n",
       "       'locationSource', 'magSource'],\n",
       "      dtype='object')"
      ]
     },
     "execution_count": 4,
     "metadata": {},
     "output_type": "execute_result"
    }
   ],
   "source": [
    "# Leemos los datos de terremotos y filtramos las features.\n",
    "quakes_df = pd.read_csv('Data/quakes.csv')\n",
    "print(len(quakes_df))\n",
    "quakes_df.columns"
   ]
  },
  {
   "cell_type": "code",
   "execution_count": 5,
   "metadata": {},
   "outputs": [
    {
     "data": {
      "text/html": [
       "<div>\n",
       "<style scoped>\n",
       "    .dataframe tbody tr th:only-of-type {\n",
       "        vertical-align: middle;\n",
       "    }\n",
       "\n",
       "    .dataframe tbody tr th {\n",
       "        vertical-align: top;\n",
       "    }\n",
       "\n",
       "    .dataframe thead th {\n",
       "        text-align: right;\n",
       "    }\n",
       "</style>\n",
       "<table border=\"1\" class=\"dataframe\">\n",
       "  <thead>\n",
       "    <tr style=\"text-align: right;\">\n",
       "      <th></th>\n",
       "      <th>latitude</th>\n",
       "      <th>longitude</th>\n",
       "      <th>depth</th>\n",
       "      <th>mag</th>\n",
       "      <th>time</th>\n",
       "    </tr>\n",
       "  </thead>\n",
       "  <tbody>\n",
       "    <tr>\n",
       "      <th>0</th>\n",
       "      <td>37.6457</td>\n",
       "      <td>20.8702</td>\n",
       "      <td>10.00</td>\n",
       "      <td>4.7</td>\n",
       "      <td>2018-10-27T18:33:12.420Z</td>\n",
       "    </tr>\n",
       "    <tr>\n",
       "      <th>1</th>\n",
       "      <td>65.2234</td>\n",
       "      <td>-151.6636</td>\n",
       "      <td>16.60</td>\n",
       "      <td>5.3</td>\n",
       "      <td>2018-10-27T16:57:27.956Z</td>\n",
       "    </tr>\n",
       "    <tr>\n",
       "      <th>2</th>\n",
       "      <td>-22.4704</td>\n",
       "      <td>-68.6516</td>\n",
       "      <td>113.79</td>\n",
       "      <td>4.7</td>\n",
       "      <td>2018-10-27T15:46:43.390Z</td>\n",
       "    </tr>\n",
       "    <tr>\n",
       "      <th>3</th>\n",
       "      <td>-56.0652</td>\n",
       "      <td>-27.4276</td>\n",
       "      <td>93.78</td>\n",
       "      <td>4.9</td>\n",
       "      <td>2018-10-27T15:00:46.800Z</td>\n",
       "    </tr>\n",
       "    <tr>\n",
       "      <th>4</th>\n",
       "      <td>37.3128</td>\n",
       "      <td>20.4930</td>\n",
       "      <td>10.00</td>\n",
       "      <td>4.6</td>\n",
       "      <td>2018-10-27T14:33:26.470Z</td>\n",
       "    </tr>\n",
       "  </tbody>\n",
       "</table>\n",
       "</div>"
      ],
      "text/plain": [
       "   latitude  longitude   depth  mag                      time\n",
       "0   37.6457    20.8702   10.00  4.7  2018-10-27T18:33:12.420Z\n",
       "1   65.2234  -151.6636   16.60  5.3  2018-10-27T16:57:27.956Z\n",
       "2  -22.4704   -68.6516  113.79  4.7  2018-10-27T15:46:43.390Z\n",
       "3  -56.0652   -27.4276   93.78  4.9  2018-10-27T15:00:46.800Z\n",
       "4   37.3128    20.4930   10.00  4.6  2018-10-27T14:33:26.470Z"
      ]
     },
     "execution_count": 5,
     "metadata": {},
     "output_type": "execute_result"
    }
   ],
   "source": [
    "quakes_df = quakes_df[['latitude', 'longitude', 'depth', 'mag', 'time']]\n",
    "quakes_df.head()"
   ]
  },
  {
   "cell_type": "code",
   "execution_count": 6,
   "metadata": {},
   "outputs": [
    {
     "data": {
      "text/plain": [
       "'1900-07-29T06:59:00.000Z'"
      ]
     },
     "execution_count": 6,
     "metadata": {},
     "output_type": "execute_result"
    }
   ],
   "source": [
    "min(quakes_df['time'])"
   ]
  },
  {
   "cell_type": "code",
   "execution_count": 7,
   "metadata": {
    "scrolled": true
   },
   "outputs": [
    {
     "name": "stdout",
     "output_type": "stream",
     "text": [
      "773\n"
     ]
    },
    {
     "data": {
      "text/html": [
       "<div>\n",
       "<style scoped>\n",
       "    .dataframe tbody tr th:only-of-type {\n",
       "        vertical-align: middle;\n",
       "    }\n",
       "\n",
       "    .dataframe tbody tr th {\n",
       "        vertical-align: top;\n",
       "    }\n",
       "\n",
       "    .dataframe thead th {\n",
       "        text-align: right;\n",
       "    }\n",
       "</style>\n",
       "<table border=\"1\" class=\"dataframe\">\n",
       "  <thead>\n",
       "    <tr style=\"text-align: right;\">\n",
       "      <th></th>\n",
       "      <th>PRIMARY_MAGNITUDE</th>\n",
       "      <th>LATITUDE</th>\n",
       "      <th>LONGITUDE</th>\n",
       "      <th>YEAR</th>\n",
       "    </tr>\n",
       "  </thead>\n",
       "  <tbody>\n",
       "    <tr>\n",
       "      <th>372</th>\n",
       "      <td>6.6</td>\n",
       "      <td>-4.0</td>\n",
       "      <td>152.0</td>\n",
       "      <td>1900</td>\n",
       "    </tr>\n",
       "    <tr>\n",
       "      <th>373</th>\n",
       "      <td>7.1</td>\n",
       "      <td>-5.0</td>\n",
       "      <td>148.0</td>\n",
       "      <td>1900</td>\n",
       "    </tr>\n",
       "    <tr>\n",
       "      <th>374</th>\n",
       "      <td>6.9</td>\n",
       "      <td>-4.0</td>\n",
       "      <td>140.0</td>\n",
       "      <td>1900</td>\n",
       "    </tr>\n",
       "    <tr>\n",
       "      <th>375</th>\n",
       "      <td>8.4</td>\n",
       "      <td>11.0</td>\n",
       "      <td>-66.0</td>\n",
       "      <td>1900</td>\n",
       "    </tr>\n",
       "    <tr>\n",
       "      <th>376</th>\n",
       "      <td>6.0</td>\n",
       "      <td>39.0</td>\n",
       "      <td>143.0</td>\n",
       "      <td>1901</td>\n",
       "    </tr>\n",
       "  </tbody>\n",
       "</table>\n",
       "</div>"
      ],
      "text/plain": [
       "     PRIMARY_MAGNITUDE  LATITUDE  LONGITUDE  YEAR\n",
       "372                6.6      -4.0      152.0  1900\n",
       "373                7.1      -5.0      148.0  1900\n",
       "374                6.9      -4.0      140.0  1900\n",
       "375                8.4      11.0      -66.0  1900\n",
       "376                6.0      39.0      143.0  1901"
      ]
     },
     "execution_count": 7,
     "metadata": {},
     "output_type": "execute_result"
    }
   ],
   "source": [
    "# Leemos los dato de tsunamis y seleccionamos las features\n",
    "tsunamis_df = pd.read_csv('Data/tsunamis.tsv', sep='\\t', encoding='iso-8859-1')\n",
    "tsunamis_df = tsunamis_df[tsunamis_df['YEAR'] >= 1900]\n",
    "tsunamis_df = tsunamis_df[['PRIMARY_MAGNITUDE', 'LATITUDE', 'LONGITUDE', 'YEAR']]\n",
    "print(len(tsunamis_df))\n",
    "tsunamis_df.head()"
   ]
  },
  {
   "cell_type": "markdown",
   "metadata": {},
   "source": [
    "Es posibe observar que existen 415677 terremotos y tan solo 1145 tsunamis. Este problema de desbalance se nivelará filtrando intervalos con muchos terremotos y pocos tsunamis, es decir, el rango de magnitudes bajas. A continuación observaremos los datos para determinar un punto de corte."
   ]
  },
  {
   "cell_type": "code",
   "execution_count": 8,
   "metadata": {},
   "outputs": [],
   "source": [
    "# Observamos distribuciones de la magnitud\n",
    "plt = tsunamis_df['PRIMARY_MAGNITUDE'].hist(bins=40, figsize=(10, 3))"
   ]
  },
  {
   "cell_type": "code",
   "execution_count": 9,
   "metadata": {},
   "outputs": [
    {
     "data": {
      "image/png": "[encoded data removed]",
      "text/plain": [
       "<Figure size 720x216 with 1 Axes>"
      ]
     },
     "metadata": {},
     "output_type": "display_data"
    }
   ],
   "source": [
    "plt = quakes_df['mag'].hist(bins=40, figsize=(10, 3))"
   ]
  },
  {
   "cell_type": "markdown",
   "metadata": {},
   "source": [
    "A partir de los histogramas, es posible apreciar que la gran mayoria de los terremotos bajo 6 grados aproximadamente, no genera tsunami alguno. Por esta razón es que lo consideraremos como el punto de corte."
   ]
  },
  {
   "cell_type": "code",
   "execution_count": 10,
   "metadata": {},
   "outputs": [
    {
     "name": "stdout",
     "output_type": "stream",
     "text": [
      "663\n",
      "4930\n"
     ]
    }
   ],
   "source": [
    "corte = 6.3\n",
    "print(len(tsunamis_df[tsunamis_df['PRIMARY_MAGNITUDE'] > corte]))\n",
    "print(len(quakes_df[quakes_df['mag'] > corte]))"
   ]
  },
  {
   "cell_type": "code",
   "execution_count": 11,
   "metadata": {},
   "outputs": [],
   "source": [
    "tsunamis_df = tsunamis_df[tsunamis_df['PRIMARY_MAGNITUDE'] > corte]\n",
    "quakes_df = quakes_df[quakes_df['mag'] > corte]"
   ]
  },
  {
   "cell_type": "markdown",
   "metadata": {},
   "source": [
    "Ahora, procederemos a hacer el join de ambas tablas"
   ]
  },
  {
   "cell_type": "code",
   "execution_count": 12,
   "metadata": {},
   "outputs": [
    {
     "name": "stdout",
     "output_type": "stream",
     "text": [
      "Total time: 22.8232\n"
     ]
    },
    {
     "data": {
      "text/plain": [
       "(671, 663)"
      ]
     },
     "execution_count": 12,
     "metadata": {},
     "output_type": "execute_result"
    }
   ],
   "source": [
    "# Creamos una nueva columna en el dataset de terremotos,\n",
    "# que por defecto será la ausencia de tsunami.\n",
    "quakes_df['tsunami'] = 0\n",
    "\n",
    "t0, i, total = time(), 0, len(quakes_df)\n",
    "for index, row in quakes_df.iterrows():  # Para cada terremoto, se busca la correspondencia\n",
    "    lat = row['latitude']                # en la tabla tsunamis.\n",
    "    lon = row['longitude']\n",
    "    mag = row['mag']\n",
    "    year = int(row['time'][:4])\n",
    "    \n",
    "    delta_pos = 2.5  # valores tuneados a mano para el margen de error.\n",
    "    delta_mag = 0.3\n",
    "    \n",
    "    cond1 = abs(tsunamis_df['LATITUDE'] - lat) < delta_pos\n",
    "    cond2 = abs(tsunamis_df['LONGITUDE'] - lon) < delta_pos\n",
    "    cond3 = abs(tsunamis_df['PRIMARY_MAGNITUDE'] - mag) < delta_mag\n",
    "    cond4 = tsunamis_df['YEAR'] == year\n",
    "    \n",
    "    # Si existe un elemento en la tabla de tsunamis con las features muy cercanas,\n",
    "    # se le asocia al terremoto.\n",
    "    if len(tsunamis_df.loc[cond1 & cond2 & cond3 & cond4]) >= 1:\n",
    "        quakes_df.at[index, 'tsunami'] = 1\n",
    "    else:\n",
    "        quakes_df.at[index, 'tsunami'] = 0\n",
    "    \n",
    "    i += 1\n",
    "    if i % 80 == 0:\n",
    "        print('Seconds left: {:.2f}'.format((time() - t0)/i * (total - i)), end='\\r')\n",
    "\n",
    "print('Total time: {:.2f}'.format(time() - t0))\n",
    "len(quakes_df[quakes_df['tsunami'] == 1]), len(tsunamis_df)"
   ]
  },
  {
   "cell_type": "code",
   "execution_count": 13,
   "metadata": {},
   "outputs": [
    {
     "data": {
      "text/html": [
       "<div>\n",
       "<style scoped>\n",
       "    .dataframe tbody tr th:only-of-type {\n",
       "        vertical-align: middle;\n",
       "    }\n",
       "\n",
       "    .dataframe tbody tr th {\n",
       "        vertical-align: top;\n",
       "    }\n",
       "\n",
       "    .dataframe thead th {\n",
       "        text-align: right;\n",
       "    }\n",
       "</style>\n",
       "<table border=\"1\" class=\"dataframe\">\n",
       "  <thead>\n",
       "    <tr style=\"text-align: right;\">\n",
       "      <th></th>\n",
       "      <th>latitude</th>\n",
       "      <th>longitude</th>\n",
       "      <th>depth</th>\n",
       "      <th>mag</th>\n",
       "      <th>time</th>\n",
       "      <th>tsunami</th>\n",
       "    </tr>\n",
       "  </thead>\n",
       "  <tbody>\n",
       "    <tr>\n",
       "      <th>79</th>\n",
       "      <td>37.5055</td>\n",
       "      <td>20.5626</td>\n",
       "      <td>14.00</td>\n",
       "      <td>6.8</td>\n",
       "      <td>2018-10-25T22:54:51.830Z</td>\n",
       "      <td>1</td>\n",
       "    </tr>\n",
       "    <tr>\n",
       "      <th>147</th>\n",
       "      <td>49.3142</td>\n",
       "      <td>-129.6725</td>\n",
       "      <td>10.00</td>\n",
       "      <td>6.5</td>\n",
       "      <td>2018-10-22T06:22:48.810Z</td>\n",
       "      <td>0</td>\n",
       "    </tr>\n",
       "    <tr>\n",
       "      <th>148</th>\n",
       "      <td>49.3468</td>\n",
       "      <td>-129.2135</td>\n",
       "      <td>10.00</td>\n",
       "      <td>6.8</td>\n",
       "      <td>2018-10-22T06:16:28.160Z</td>\n",
       "      <td>0</td>\n",
       "    </tr>\n",
       "    <tr>\n",
       "      <th>149</th>\n",
       "      <td>49.2496</td>\n",
       "      <td>-129.4783</td>\n",
       "      <td>10.96</td>\n",
       "      <td>6.6</td>\n",
       "      <td>2018-10-22T05:39:40.330Z</td>\n",
       "      <td>0</td>\n",
       "    </tr>\n",
       "    <tr>\n",
       "      <th>335</th>\n",
       "      <td>-21.7260</td>\n",
       "      <td>169.4867</td>\n",
       "      <td>10.00</td>\n",
       "      <td>6.4</td>\n",
       "      <td>2018-10-16T01:03:43.090Z</td>\n",
       "      <td>0</td>\n",
       "    </tr>\n",
       "  </tbody>\n",
       "</table>\n",
       "</div>"
      ],
      "text/plain": [
       "     latitude  longitude  depth  mag                      time  tsunami\n",
       "79    37.5055    20.5626  14.00  6.8  2018-10-25T22:54:51.830Z        1\n",
       "147   49.3142  -129.6725  10.00  6.5  2018-10-22T06:22:48.810Z        0\n",
       "148   49.3468  -129.2135  10.00  6.8  2018-10-22T06:16:28.160Z        0\n",
       "149   49.2496  -129.4783  10.96  6.6  2018-10-22T05:39:40.330Z        0\n",
       "335  -21.7260   169.4867  10.00  6.4  2018-10-16T01:03:43.090Z        0"
      ]
     },
     "execution_count": 13,
     "metadata": {},
     "output_type": "execute_result"
    }
   ],
   "source": [
    "quakes_df.head()"
   ]
  },
  {
   "cell_type": "code",
   "execution_count": 14,
   "metadata": {},
   "outputs": [
    {
     "data": {
      "image/png": "[encoded data removed]",
      "text/plain": [
       "<Figure size 864x216 with 1 Axes>"
      ]
     },
     "metadata": {},
     "output_type": "display_data"
    }
   ],
   "source": [
    "# Magnitudes de todos los terremotos\n",
    "plt = quakes_df['mag'].hist(bins=31, figsize=(12,3))"
   ]
  },
  {
   "cell_type": "code",
   "execution_count": 15,
   "metadata": {},
   "outputs": [
    {
     "data": {
      "image/png": "[encoded data removed]",
      "text/plain": [
       "<Figure size 864x216 with 1 Axes>"
      ]
     },
     "metadata": {},
     "output_type": "display_data"
    }
   ],
   "source": [
    "# Magnitudes de terremotos que provocaron tsunamis\n",
    "plt = quakes_df[quakes_df['tsunami'] == 1]['mag'].hist(bins=30, figsize=(12,3))"
   ]
  },
  {
   "cell_type": "markdown",
   "metadata": {},
   "source": [
    "### Train and test"
   ]
  },
  {
   "cell_type": "markdown",
   "metadata": {},
   "source": [
    "Debido al desbalance de los datos, la partición de sets de training y testing se hará estratificada."
   ]
  },
  {
   "cell_type": "code",
   "execution_count": 16,
   "metadata": {},
   "outputs": [
    {
     "data": {
      "text/plain": [
       "(3943, 987)"
      ]
     },
     "execution_count": 16,
     "metadata": {},
     "output_type": "execute_result"
    }
   ],
   "source": [
    "np.random.seed(123)\n",
    "\n",
    "shuffled = quakes_df.loc[np.random.permutation(quakes_df.index)]\n",
    "\n",
    "clase0 = shuffled[shuffled['tsunami'] == 0]\n",
    "clase1 = shuffled[shuffled['tsunami'] == 1]\n",
    "\n",
    "p80_clase0 = int(len(clase0) * 0.8)  # percentiles 80\n",
    "p80_clase1 = int(len(clase1) * 0.8)\n",
    "\n",
    "train0 = clase0[:p80_clase0]\n",
    "train1 = clase1[:p80_clase1]\n",
    "\n",
    "test0 = clase0[p80_clase0:]\n",
    "test1 = clase1[p80_clase1:]\n",
    "\n",
    "train = pd.concat([train0, train1])\n",
    "test = pd.concat([test0, test1])\n",
    "len(train), len(test)"
   ]
  },
  {
   "cell_type": "markdown",
   "metadata": {},
   "source": [
    "# Random Forest"
   ]
  },
  {
   "cell_type": "markdown",
   "metadata": {},
   "source": [
    "<center>$Entropy(S) = p \\cdot Log(p)$</center>"
   ]
  },
  {
   "cell_type": "code",
   "execution_count": 208,
   "metadata": {},
   "outputs": [],
   "source": [
    "class Node:\n",
    "    \"\"\"\n",
    "    EDD principal para generar un árbol de regresión.\n",
    "    \"\"\"\n",
    "    \n",
    "    def __init__(self, feature=None, division_point=None, leaf=False, data=None):\n",
    "        self.left_child = None  # de la clase Node\n",
    "        self.right_child = None  # de la clase Node\n",
    "        self.feature = feature  # Atributo que instancian sus hijos\n",
    "        self.division_point = division_point  # punto de division que separa a sus hijos\n",
    "        self.leaf = leaf  # Indica si es un nodo hoja\n",
    "        self.data = data  # Si es que es un nodo hoja, contiene las particiones de los datos\n",
    "        \n",
    "    @property\n",
    "    def depth(self):\n",
    "        d = 0\n",
    "        if self.left_child:\n",
    "            d = 1 + self.left_child.depth\n",
    "        if self.right_child:\n",
    "            d = max(d, 1 + self.right_child.depth)\n",
    "        return d\n",
    "    \n",
    "    @property\n",
    "    def number_of_leaves(self):\n",
    "        if self.leaf:\n",
    "            return 1\n",
    "        return self.left_child.number_of_leaves + self.right_child.number_of_leaves\n",
    "    \n",
    "    @property\n",
    "    def total_var(self):\n",
    "        if self.leaf:\n",
    "            return self.data['tsunami'].var(ddof=0)\n",
    "        return self.left_child.total_var + self.right_child.total_var\n",
    "        \n",
    "    def __repr__(self):\n",
    "        if not self.leaf:\n",
    "            ret = \"feature: {}\\ndivision_point: {}\\ndepth: {}\\nleaves: {}\".format(self.feature,\n",
    "                                                                                  self.division_point,\n",
    "                                                                                  self.depth,\n",
    "                                                                                  self.number_of_leaves)\n",
    "        else:\n",
    "            ret = \"Hoja\\nNúmero de datos: {}\\nMean: {}\\nstd: {}\".format(len(self.data),\n",
    "                                                                        self.data.mean(),\n",
    "                                                                        self.data.std(ddof=0))\n",
    "        return ret"
   ]
  },
  {
   "cell_type": "code",
   "execution_count": null,
   "metadata": {},
   "outputs": [],
   "source": [
    "def entropy(data_left, data_right):\n",
    "    p_left = len(data_left[data_left['tsunami'] == 0]) / len(data_left)\n",
    "    p_right = len(data_right[data_right['tsunami'] == 1]) / len(data_left)\n",
    "    "
   ]
  },
  {
   "cell_type": "code",
   "execution_count": 99,
   "metadata": {},
   "outputs": [],
   "source": [
    "def best_division_point(data, feature, target):\n",
    "    \"\"\"\n",
    "    Calcula las varianzas de manera incremental para cada dato como punto divisorio\n",
    "    de los datos y entrega el index del que minimiza la varianza.\n",
    "    \"\"\"\n",
    "    \n",
    "    print(\"Computing best division point for feature {}...                 \".format(feature), end='\\r')\n",
    "    t0 = time()\n",
    "    \n",
    "    if len(data[feature].unique()) == 1:  # si todos los valores de feature son iguales\n",
    "        return 0, float('inf'), 0\n",
    "    \n",
    "    # Ordenamos los datos según la feature\n",
    "    ordered = data.sort_values(feature)\n",
    "    total = len(ordered)\n",
    "\n",
    "    # Entropia base\n",
    "    p0 = len(data[data[target] == 0]) / len(data)\n",
    "    p1 = len(data[data[target] == 1]) / len(data)\n",
    "    e = p0*np.log2(p0) + p1*np.log2(p1)\n",
    "    \n",
    "#     print('holi')\n",
    "    \n",
    "    # Maximizar el gain es lo mismo que minimizar la entropia de las particiones.\n",
    "    data_left = ordered[:1]\n",
    "    data_right = ordered[1:]\n",
    "    \n",
    "#     print('holi')\n",
    "    \n",
    "    p0_left = len(data_left[data_left[target] == 0])\n",
    "    p0_right = len(data_right[data_right[target] == 0])\n",
    "#     print('holi')\n",
    "    \n",
    "    p1_left = len(data_left[data_left[target] == 1])\n",
    "    p1_right = len(data_right[data_right[target] == 1])\n",
    "    \n",
    "    e_left = p0_left*np.log2(p0_left) + p1_left*np.log2(p1_left) if p0_left != 0 and p1_left != 0 else 0\n",
    "    e_right = p0_right*np.log2(p0_right) + p1_right*np.log2(p1_right) if p0_right != 0 and p1_right != 0 else 0\n",
    "    \n",
    "    leaves_entropy = e_left + e_right  # cantidad a minimizar\n",
    "    minimum, best_division = float('inf'), 0\n",
    "        \n",
    "#     print('holi')\n",
    "\n",
    "    dato_anterior = data[feature][0]\n",
    "    for i, row in enumerate(data[target][1:]):               \n",
    "        if data.iloc[i + 1][target] == 0:\n",
    "            p0_left += 1\n",
    "            p0_right -= 1\n",
    "        else:\n",
    "            p1_left += 1\n",
    "            p1_right -= 1\n",
    "    \n",
    "        e_left = p0_left * np.log2(p0_left) + p1_left * np.log2(p1_left) if p0_left != 0 and p1_left != 0 else 0\n",
    "        e_right = p0_right * np.log2(p0_right) + p1_right * np.log2(p1_right) if p0_right != 0 and p1_right != 0 else 0\n",
    "    \n",
    "        new_entropy = e_left + e_right\n",
    "        if new_entropy < minimum:  # cantidad a minimizar\n",
    "            if data[feature][i + 1] == dato_anterior:  # esto es para que el corte no \n",
    "                continue                               # divida datos iguales\n",
    "            minimum, best_division = new_entropy, i + 1\n",
    "        \n",
    "        dato_anterior = data[feature][i + 1]\n",
    "\n",
    "\n",
    "    # retornamos el index del mejor punto de división junto con la varianza obtenidax\n",
    "    idxs_left = [ordered.index[idx] for idx in range(best_point + 1)]\n",
    "    idxs_right = [ordered.index[idx] for idx in range(best_point + 1, len(ordered))]\n",
    "    \n",
    "    # print(\"Best division point founded for {} in {:.4f} seconds.\".format(feature, time() - t0))\n",
    "    return ordered.index[best_point], minimum, [idxs_left, idxs_right]"
   ]
  },
  {
   "cell_type": "code",
   "execution_count": 100,
   "metadata": {},
   "outputs": [],
   "source": [
    "def prepoda(datos):\n",
    "    if len(datos) < len(datos)*0.05:\n",
    "        return True\n",
    "    return False\n",
    "\n",
    "def fit(data, target, max_depth=None):\n",
    "    \"\"\"\n",
    "    Función recursiva para generar el árbol de regresión óptimo.\n",
    "    \"\"\"\n",
    "    \n",
    "    # Condición de término:\n",
    "    if max_depth == 0 or prepoda(data):\n",
    "        hoja = Node(leaf=True)\n",
    "        hoja.data = data\n",
    "        return hoja\n",
    "    \n",
    "    t0 = time()\n",
    "    print(\"Computing best feature... Depth: {}\".format(max_depth))\n",
    "    \n",
    "    features = [col for col in data.columns if col != target]\n",
    "\n",
    "    best_feature = features[0]\n",
    "    best_point, best_minimum, best_idxs = best_division_point(data, best_feature, target)\n",
    "    for feature in features[1:]:\n",
    "        point, minimum, idxs = best_division_point(data, feature, target)\n",
    "        if minimum < best_minimum:\n",
    "            best_feature = feature\n",
    "            best_point = point\n",
    "            best_minimum = minimum\n",
    "            best_idxs = idxs  # filas de la particion\n",
    "    \n",
    "    print(\"Best feature found in {:.4f} seconds: {}, division_point: {}.\".format(time() - t0, best_feature, best_point))\n",
    "    \n",
    "    print(\"Creating childs...\")\n",
    "    root = Node(feature=best_feature, division_point=data[best_feature][best_point])\n",
    "    \n",
    "    left_data = data.loc[best_idxs[0]]\n",
    "    right_data = data.loc[best_idxs[1]]\n",
    "    \n",
    "    root.left_child = fit(left_data, target, max_depth - 1 if max_depth else None)\n",
    "    print(\"Left child ready. Current time: {:.4f} seconds\".format(time() - t0))\n",
    "    root.right_child = fit(right_data, target, max_depth - 1 if max_depth else None)\n",
    "    print(\"Right child ready. Current time: {:.4f} seconds\".format(time() - t0))\n",
    "    \n",
    "    return root   "
   ]
  },
  {
   "cell_type": "code",
   "execution_count": 101,
   "metadata": {},
   "outputs": [],
   "source": [
    "def predict(row, tree, target='PeriodLS'):\n",
    "    \"\"\"\n",
    "    Recorre un árbol de regresión para predecir la clase del dato entregado.\n",
    "    \"\"\"\n",
    "    \n",
    "    # Buscamos la hoja\n",
    "    while not tree.leaf:\n",
    "        if row[tree.feature] < tree.division_point:\n",
    "            tree = tree.left_child\n",
    "        else:\n",
    "            tree = tree.right_child\n",
    "    \n",
    "    # Predecimos en base a lo que haya en la hoja\n",
    "    return tree.data[target].mean()"
   ]
  },
  {
   "cell_type": "code",
   "execution_count": 102,
   "metadata": {},
   "outputs": [
    {
     "name": "stdout",
     "output_type": "stream",
     "text": [
      "Computing best feature... Depth: 5\n",
      "Computing best division point for feature latitude...                 \r"
     ]
    },
    {
     "ename": "KeyError",
     "evalue": "0",
     "output_type": "error",
     "traceback": [
      "\u001b[0;31m---------------------------------------------------------------------------\u001b[0m",
      "\u001b[0;31mKeyError\u001b[0m                                  Traceback (most recent call last)",
      "\u001b[0;32m<ipython-input-102-717ecc8be7bf>\u001b[0m in \u001b[0;36m<module>\u001b[0;34m()\u001b[0m\n\u001b[0;32m----> 1\u001b[0;31m \u001b[0mregression_tree\u001b[0m \u001b[0;34m=\u001b[0m \u001b[0mfit\u001b[0m\u001b[0;34m(\u001b[0m\u001b[0mtrain\u001b[0m\u001b[0;34m,\u001b[0m \u001b[0;34m'tsunami'\u001b[0m\u001b[0;34m,\u001b[0m \u001b[0;36m5\u001b[0m\u001b[0;34m)\u001b[0m\u001b[0;34m\u001b[0m\u001b[0m\n\u001b[0m",
      "\u001b[0;32m<ipython-input-100-75978f53d7e2>\u001b[0m in \u001b[0;36mfit\u001b[0;34m(data, target, max_depth)\u001b[0m\n\u001b[1;32m     21\u001b[0m \u001b[0;34m\u001b[0m\u001b[0m\n\u001b[1;32m     22\u001b[0m     \u001b[0mbest_feature\u001b[0m \u001b[0;34m=\u001b[0m \u001b[0mfeatures\u001b[0m\u001b[0;34m[\u001b[0m\u001b[0;36m0\u001b[0m\u001b[0;34m]\u001b[0m\u001b[0;34m\u001b[0m\u001b[0m\n\u001b[0;32m---> 23\u001b[0;31m     \u001b[0mbest_point\u001b[0m\u001b[0;34m,\u001b[0m \u001b[0mbest_minimum\u001b[0m\u001b[0;34m,\u001b[0m \u001b[0mbest_idxs\u001b[0m \u001b[0;34m=\u001b[0m \u001b[0mbest_division_point\u001b[0m\u001b[0;34m(\u001b[0m\u001b[0mdata\u001b[0m\u001b[0;34m,\u001b[0m \u001b[0mbest_feature\u001b[0m\u001b[0;34m,\u001b[0m \u001b[0mtarget\u001b[0m\u001b[0;34m)\u001b[0m\u001b[0;34m\u001b[0m\u001b[0m\n\u001b[0m\u001b[1;32m     24\u001b[0m     \u001b[0;32mfor\u001b[0m \u001b[0mfeature\u001b[0m \u001b[0;32min\u001b[0m \u001b[0mfeatures\u001b[0m\u001b[0;34m[\u001b[0m\u001b[0;36m1\u001b[0m\u001b[0;34m:\u001b[0m\u001b[0;34m]\u001b[0m\u001b[0;34m:\u001b[0m\u001b[0;34m\u001b[0m\u001b[0m\n\u001b[1;32m     25\u001b[0m         \u001b[0mpoint\u001b[0m\u001b[0;34m,\u001b[0m \u001b[0mminimum\u001b[0m\u001b[0;34m,\u001b[0m \u001b[0midxs\u001b[0m \u001b[0;34m=\u001b[0m \u001b[0mbest_division_point\u001b[0m\u001b[0;34m(\u001b[0m\u001b[0mdata\u001b[0m\u001b[0;34m,\u001b[0m \u001b[0mfeature\u001b[0m\u001b[0;34m,\u001b[0m \u001b[0mtarget\u001b[0m\u001b[0;34m)\u001b[0m\u001b[0;34m\u001b[0m\u001b[0m\n",
      "\u001b[0;32m<ipython-input-99-f0a46d0a4237>\u001b[0m in \u001b[0;36mbest_division_point\u001b[0;34m(data, feature, target)\u001b[0m\n\u001b[1;32m     43\u001b[0m \u001b[0;31m#     print('holi')\u001b[0m\u001b[0;34m\u001b[0m\u001b[0;34m\u001b[0m\u001b[0m\n\u001b[1;32m     44\u001b[0m \u001b[0;34m\u001b[0m\u001b[0m\n\u001b[0;32m---> 45\u001b[0;31m     \u001b[0mdato_anterior\u001b[0m \u001b[0;34m=\u001b[0m \u001b[0mdata\u001b[0m\u001b[0;34m[\u001b[0m\u001b[0mfeature\u001b[0m\u001b[0;34m]\u001b[0m\u001b[0;34m[\u001b[0m\u001b[0;36m0\u001b[0m\u001b[0;34m]\u001b[0m\u001b[0;34m\u001b[0m\u001b[0m\n\u001b[0m\u001b[1;32m     46\u001b[0m     \u001b[0;32mfor\u001b[0m \u001b[0mi\u001b[0m\u001b[0;34m,\u001b[0m \u001b[0mrow\u001b[0m \u001b[0;32min\u001b[0m \u001b[0menumerate\u001b[0m\u001b[0;34m(\u001b[0m\u001b[0mdata\u001b[0m\u001b[0;34m[\u001b[0m\u001b[0mtarget\u001b[0m\u001b[0;34m]\u001b[0m\u001b[0;34m[\u001b[0m\u001b[0;36m1\u001b[0m\u001b[0;34m:\u001b[0m\u001b[0;34m]\u001b[0m\u001b[0;34m)\u001b[0m\u001b[0;34m:\u001b[0m\u001b[0;34m\u001b[0m\u001b[0m\n\u001b[1;32m     47\u001b[0m         \u001b[0;32mif\u001b[0m \u001b[0mdata\u001b[0m\u001b[0;34m.\u001b[0m\u001b[0miloc\u001b[0m\u001b[0;34m[\u001b[0m\u001b[0mi\u001b[0m \u001b[0;34m+\u001b[0m \u001b[0;36m1\u001b[0m\u001b[0;34m]\u001b[0m\u001b[0;34m[\u001b[0m\u001b[0mtarget\u001b[0m\u001b[0;34m]\u001b[0m \u001b[0;34m==\u001b[0m \u001b[0;36m0\u001b[0m\u001b[0;34m:\u001b[0m\u001b[0;34m\u001b[0m\u001b[0m\n",
      "\u001b[0;32m~/anaconda3/lib/python3.6/site-packages/pandas/core/series.py\u001b[0m in \u001b[0;36m__getitem__\u001b[0;34m(self, key)\u001b[0m\n\u001b[1;32m    764\u001b[0m         \u001b[0mkey\u001b[0m \u001b[0;34m=\u001b[0m \u001b[0mcom\u001b[0m\u001b[0;34m.\u001b[0m\u001b[0m_apply_if_callable\u001b[0m\u001b[0;34m(\u001b[0m\u001b[0mkey\u001b[0m\u001b[0;34m,\u001b[0m \u001b[0mself\u001b[0m\u001b[0;34m)\u001b[0m\u001b[0;34m\u001b[0m\u001b[0m\n\u001b[1;32m    765\u001b[0m         \u001b[0;32mtry\u001b[0m\u001b[0;34m:\u001b[0m\u001b[0;34m\u001b[0m\u001b[0m\n\u001b[0;32m--> 766\u001b[0;31m             \u001b[0mresult\u001b[0m \u001b[0;34m=\u001b[0m \u001b[0mself\u001b[0m\u001b[0;34m.\u001b[0m\u001b[0mindex\u001b[0m\u001b[0;34m.\u001b[0m\u001b[0mget_value\u001b[0m\u001b[0;34m(\u001b[0m\u001b[0mself\u001b[0m\u001b[0;34m,\u001b[0m \u001b[0mkey\u001b[0m\u001b[0;34m)\u001b[0m\u001b[0;34m\u001b[0m\u001b[0m\n\u001b[0m\u001b[1;32m    767\u001b[0m \u001b[0;34m\u001b[0m\u001b[0m\n\u001b[1;32m    768\u001b[0m             \u001b[0;32mif\u001b[0m \u001b[0;32mnot\u001b[0m \u001b[0mis_scalar\u001b[0m\u001b[0;34m(\u001b[0m\u001b[0mresult\u001b[0m\u001b[0;34m)\u001b[0m\u001b[0;34m:\u001b[0m\u001b[0;34m\u001b[0m\u001b[0m\n",
      "\u001b[0;32m~/anaconda3/lib/python3.6/site-packages/pandas/core/indexes/base.py\u001b[0m in \u001b[0;36mget_value\u001b[0;34m(self, series, key)\u001b[0m\n\u001b[1;32m   3101\u001b[0m         \u001b[0;32mtry\u001b[0m\u001b[0;34m:\u001b[0m\u001b[0;34m\u001b[0m\u001b[0m\n\u001b[1;32m   3102\u001b[0m             return self._engine.get_value(s, k,\n\u001b[0;32m-> 3103\u001b[0;31m                                           tz=getattr(series.dtype, 'tz', None))\n\u001b[0m\u001b[1;32m   3104\u001b[0m         \u001b[0;32mexcept\u001b[0m \u001b[0mKeyError\u001b[0m \u001b[0;32mas\u001b[0m \u001b[0me1\u001b[0m\u001b[0;34m:\u001b[0m\u001b[0;34m\u001b[0m\u001b[0m\n\u001b[1;32m   3105\u001b[0m             \u001b[0;32mif\u001b[0m \u001b[0mlen\u001b[0m\u001b[0;34m(\u001b[0m\u001b[0mself\u001b[0m\u001b[0;34m)\u001b[0m \u001b[0;34m>\u001b[0m \u001b[0;36m0\u001b[0m \u001b[0;32mand\u001b[0m \u001b[0mself\u001b[0m\u001b[0;34m.\u001b[0m\u001b[0minferred_type\u001b[0m \u001b[0;32min\u001b[0m \u001b[0;34m[\u001b[0m\u001b[0;34m'integer'\u001b[0m\u001b[0;34m,\u001b[0m \u001b[0;34m'boolean'\u001b[0m\u001b[0;34m]\u001b[0m\u001b[0;34m:\u001b[0m\u001b[0;34m\u001b[0m\u001b[0m\n",
      "\u001b[0;32mpandas/_libs/index.pyx\u001b[0m in \u001b[0;36mpandas._libs.index.IndexEngine.get_value\u001b[0;34m()\u001b[0m\n",
      "\u001b[0;32mpandas/_libs/index.pyx\u001b[0m in \u001b[0;36mpandas._libs.index.IndexEngine.get_value\u001b[0;34m()\u001b[0m\n",
      "\u001b[0;32mpandas/_libs/index.pyx\u001b[0m in \u001b[0;36mpandas._libs.index.IndexEngine.get_loc\u001b[0;34m()\u001b[0m\n",
      "\u001b[0;32mpandas/_libs/hashtable_class_helper.pxi\u001b[0m in \u001b[0;36mpandas._libs.hashtable.Int64HashTable.get_item\u001b[0;34m()\u001b[0m\n",
      "\u001b[0;32mpandas/_libs/hashtable_class_helper.pxi\u001b[0m in \u001b[0;36mpandas._libs.hashtable.Int64HashTable.get_item\u001b[0;34m()\u001b[0m\n",
      "\u001b[0;31mKeyError\u001b[0m: 0"
     ]
    }
   ],
   "source": [
    "regression_tree = fit(train, 'tsunami', 5)"
   ]
  },
  {
   "cell_type": "code",
   "execution_count": 32,
   "metadata": {},
   "outputs": [
    {
     "data": {
      "text/plain": [
       "79    2\n",
       "Name: tsunami, dtype: int64"
      ]
     },
     "execution_count": 32,
     "metadata": {},
     "output_type": "execute_result"
    }
   ],
   "source": [
    "quakes_df['tsunami'][:1]"
   ]
  },
  {
   "cell_type": "code",
   "execution_count": 78,
   "metadata": {},
   "outputs": [
    {
     "data": {
      "text/html": [
       "<div>\n",
       "<style scoped>\n",
       "    .dataframe tbody tr th:only-of-type {\n",
       "        vertical-align: middle;\n",
       "    }\n",
       "\n",
       "    .dataframe tbody tr th {\n",
       "        vertical-align: top;\n",
       "    }\n",
       "\n",
       "    .dataframe thead th {\n",
       "        text-align: right;\n",
       "    }\n",
       "</style>\n",
       "<table border=\"1\" class=\"dataframe\">\n",
       "  <thead>\n",
       "    <tr style=\"text-align: right;\">\n",
       "      <th></th>\n",
       "      <th>latitude</th>\n",
       "      <th>longitude</th>\n",
       "      <th>depth</th>\n",
       "      <th>mag</th>\n",
       "      <th>time</th>\n",
       "      <th>tsunami</th>\n",
       "    </tr>\n",
       "  </thead>\n",
       "  <tbody>\n",
       "    <tr>\n",
       "      <th>79</th>\n",
       "      <td>37.5055</td>\n",
       "      <td>20.5626</td>\n",
       "      <td>14.0</td>\n",
       "      <td>6.8</td>\n",
       "      <td>2018-10-25T22:54:51.830Z</td>\n",
       "      <td>1</td>\n",
       "    </tr>\n",
       "    <tr>\n",
       "      <th>147</th>\n",
       "      <td>49.3142</td>\n",
       "      <td>-129.6725</td>\n",
       "      <td>10.0</td>\n",
       "      <td>6.5</td>\n",
       "      <td>2018-10-22T06:22:48.810Z</td>\n",
       "      <td>0</td>\n",
       "    </tr>\n",
       "    <tr>\n",
       "      <th>148</th>\n",
       "      <td>49.3468</td>\n",
       "      <td>-129.2135</td>\n",
       "      <td>10.0</td>\n",
       "      <td>6.8</td>\n",
       "      <td>2018-10-22T06:16:28.160Z</td>\n",
       "      <td>0</td>\n",
       "    </tr>\n",
       "  </tbody>\n",
       "</table>\n",
       "</div>"
      ],
      "text/plain": [
       "     latitude  longitude  depth  mag                      time  tsunami\n",
       "79    37.5055    20.5626   14.0  6.8  2018-10-25T22:54:51.830Z        1\n",
       "147   49.3142  -129.6725   10.0  6.5  2018-10-22T06:22:48.810Z        0\n",
       "148   49.3468  -129.2135   10.0  6.8  2018-10-22T06:16:28.160Z        0"
      ]
     },
     "execution_count": 78,
     "metadata": {},
     "output_type": "execute_result"
    }
   ],
   "source": [
    "quakes_df[:3]"
   ]
  },
  {
   "cell_type": "code",
   "execution_count": 46,
   "metadata": {},
   "outputs": [
    {
     "data": {
      "text/plain": [
       "4811"
      ]
     },
     "execution_count": 46,
     "metadata": {},
     "output_type": "execute_result"
    }
   ],
   "source": [
    "len(quakes_df['latitude'].unique())"
   ]
  },
  {
   "cell_type": "code",
   "execution_count": 47,
   "metadata": {},
   "outputs": [
    {
     "data": {
      "text/plain": [
       "Int64Index([    79,    147,    148,    149,    335,    402,    467,    473,\n",
       "               801,    910,\n",
       "            ...\n",
       "            414847, 414857, 415097, 415213, 415217, 415278, 415584, 415654,\n",
       "            415655, 415670],\n",
       "           dtype='int64', length=4930)"
      ]
     },
     "execution_count": 47,
     "metadata": {},
     "output_type": "execute_result"
    }
   ],
   "source": []
  },
  {
   "cell_type": "code",
   "execution_count": null,
   "metadata": {},
   "outputs": [],
   "source": []
  }
 ],
 "metadata": {
  "kernelspec": {
   "display_name": "Python 3",
   "language": "python",
   "name": "python3"
  },
  "language_info": {
   "codemirror_mode": {
    "name": "ipython",
    "version": 3
   },
   "file_extension": ".py",
   "mimetype": "text/x-python",
   "name": "python",
   "nbconvert_exporter": "python",
   "pygments_lexer": "ipython3",
   "version": "3.6.5"
  }
 },
 "nbformat": 4,
 "nbformat_minor": 2
}
